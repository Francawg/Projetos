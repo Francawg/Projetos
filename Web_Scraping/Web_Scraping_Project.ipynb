{
 "cells": [
  {
   "cell_type": "markdown",
   "metadata": {
    "ExecuteTime": {
     "end_time": "2020-09-27T23:04:31.391950Z",
     "start_time": "2020-09-27T23:04:31.375993Z"
    }
   },
   "source": [
    "![Ironhack logo](https://i.imgur.com/1QgrNNw.png)"
   ]
  },
  {
   "cell_type": "markdown",
   "metadata": {},
   "source": [
    "# Projeto Web Scraping"
   ]
  },
  {
   "cell_type": "markdown",
   "metadata": {},
   "source": [
    "##### Nome: Wagner G França"
   ]
  },
  {
   "cell_type": "markdown",
   "metadata": {},
   "source": [
    " "
   ]
  },
  {
   "cell_type": "markdown",
   "metadata": {},
   "source": [
    " ## Os Dados serão extraídos da  \" _hlt.org_ \""
   ]
  },
  {
   "cell_type": "markdown",
   "metadata": {
    "ExecuteTime": {
     "end_time": "2020-09-27T23:06:01.208335Z",
     "start_time": "2020-09-27T23:06:01.193402Z"
    }
   },
   "source": [
    "![hltv1.png](https://encrypted-tbn0.gstatic.com/images?q=tbn%3AANd9GcQBnhiLqKkFdTC2OL-Kmx42rtoK0e65LJ-xcA&usqp=CAU)  "
   ]
  },
  {
   "cell_type": "markdown",
   "metadata": {},
   "source": [
    "## Devido a pandemia do COVID-19, não foram possiveis extrair dados de 6 meses atrás.\n"
   ]
  },
  {
   "cell_type": "markdown",
   "metadata": {},
   "source": [
    "## Importando Bibliotecas necessárias\n"
   ]
  },
  {
   "cell_type": "code",
   "execution_count": 2,
   "metadata": {
    "ExecuteTime": {
     "end_time": "2020-10-29T14:36:18.492653Z",
     "start_time": "2020-10-29T14:36:18.480546Z"
    }
   },
   "outputs": [],
   "source": [
    "import numpy as np\n",
    "import pandas as pd\n",
    "import requests\n",
    "from bs4 import BeautifulSoup\n",
    "import re\n",
    "import random"
   ]
  },
  {
   "cell_type": "markdown",
   "metadata": {},
   "source": [
    " "
   ]
  },
  {
   "cell_type": "markdown",
   "metadata": {
    "ExecuteTime": {
     "end_time": "2020-09-30T20:38:23.170921Z",
     "start_time": "2020-09-30T20:38:23.159950Z"
    }
   },
   "source": [
    "##### Urls para scraping\n"
   ]
  },
  {
   "cell_type": "markdown",
   "metadata": {
    "ExecuteTime": {
     "end_time": "2020-09-30T20:38:23.626187Z",
     "start_time": "2020-09-30T20:38:23.620204Z"
    }
   },
   "source": [
    "Será extraído todas as partidas ano a ano\n",
    "\n",
    "A ideia desse web scraping é trazer as estatiscas dos jogadores a cada ano e averiguar quais mapas eles se destacam"
   ]
  },
  {
   "cell_type": "markdown",
   "metadata": {},
   "source": [
    " "
   ]
  },
  {
   "cell_type": "code",
   "execution_count": 3,
   "metadata": {
    "ExecuteTime": {
     "end_time": "2020-10-29T14:36:19.754921Z",
     "start_time": "2020-10-29T14:36:19.730712Z"
    }
   },
   "outputs": [],
   "source": [
    "headers={'User-Agent': 'Mozilla/5.0 (Windows NT 10.0; Win64; x64) AppleWebKit/537.36 (KHTML, like Gecko) Chrome/76.0.3809.100 Safari/537.36'}\n",
    "\n",
    "y_17 = ('https://www.hltv.org/stats/players?startDate=2017-01-01&endDate=2017-12-31&maps=all&rankingFilter=Top20')\n",
    "\n",
    "y_18 = ('https://www.hltv.org/stats/players?startDate=2018-01-01&endDate=2018-12-31&maps=all&rankingFilter=Top20')\n",
    "\n",
    "y_19 = ('https://www.hltv.org/stats/players?startDate=2019-01-01&endDate=2019-12-31&maps=all&rankingFilter=Top20')\n",
    "\n",
    "y_20 = ('https://www.hltv.org/stats/players?startDate=2020-01-01&endDate=2020-12-31&maps=all&rankingFilter=Top20')"
   ]
  },
  {
   "cell_type": "code",
   "execution_count": 4,
   "metadata": {
    "ExecuteTime": {
     "end_time": "2020-10-29T14:37:02.663252Z",
     "start_time": "2020-10-29T14:36:20.482900Z"
    }
   },
   "outputs": [],
   "source": [
    "year_2017 = requests.get(y_17,headers = headers)\n",
    "\n",
    "year_2018 = requests.get(y_18,headers = headers)\n",
    "\n",
    "year_2019 = requests.get(y_19,headers = headers)\n",
    "\n",
    "year_2020 = requests.get(y_20,headers = headers)"
   ]
  },
  {
   "cell_type": "markdown",
   "metadata": {},
   "source": [
    " "
   ]
  },
  {
   "cell_type": "markdown",
   "metadata": {},
   "source": [
    "## Creating a soup"
   ]
  },
  {
   "cell_type": "code",
   "execution_count": 5,
   "metadata": {
    "ExecuteTime": {
     "end_time": "2020-10-29T14:38:37.241521Z",
     "start_time": "2020-10-29T14:38:36.566136Z"
    }
   },
   "outputs": [],
   "source": [
    "soup_2017 = BeautifulSoup(year_2017.content)\n",
    "\n",
    "soup_2018 = BeautifulSoup(year_2018.content)\n",
    "\n",
    "soup_2019 = BeautifulSoup(year_2019.content)\n",
    "\n",
    "soup_2020 = BeautifulSoup(year_2020.content)"
   ]
  },
  {
   "cell_type": "markdown",
   "metadata": {},
   "source": [
    " "
   ]
  },
  {
   "cell_type": "markdown",
   "metadata": {},
   "source": [
    "## Read a HTML"
   ]
  },
  {
   "cell_type": "code",
   "execution_count": 6,
   "metadata": {
    "ExecuteTime": {
     "end_time": "2020-10-29T14:38:39.655039Z",
     "start_time": "2020-10-29T14:38:38.994946Z"
    }
   },
   "outputs": [],
   "source": [
    "year_17 = pd.read_html(year_2017.content)\n",
    "\n",
    "year_18 = pd.read_html(year_2018.content)\n",
    "\n",
    "year_19 = pd.read_html(year_2019.content)\n",
    "\n",
    "year_20 = pd.read_html(year_2020.content)"
   ]
  },
  {
   "cell_type": "markdown",
   "metadata": {},
   "source": [
    " "
   ]
  },
  {
   "cell_type": "markdown",
   "metadata": {},
   "source": [
    " "
   ]
  },
  {
   "cell_type": "markdown",
   "metadata": {},
   "source": [
    "# Extrair nomes dos mapas e adicionar aos respectivos DataSet"
   ]
  },
  {
   "cell_type": "code",
   "execution_count": 7,
   "metadata": {
    "ExecuteTime": {
     "end_time": "2020-10-29T14:38:41.737099Z",
     "start_time": "2020-10-29T14:38:41.695468Z"
    }
   },
   "outputs": [],
   "source": [
    "maps = [x.text for x in soup_2017.find_all('div',attrs = {'class':\"g-grid\"})[0].find_all('div')]\n",
    "de_maps = [(f'de_{(each_map).lower()}') for each_map in maps]\n"
   ]
  },
  {
   "cell_type": "code",
   "execution_count": 8,
   "metadata": {
    "ExecuteTime": {
     "end_time": "2020-10-29T14:38:42.756137Z",
     "start_time": "2020-10-29T14:38:42.749205Z"
    }
   },
   "outputs": [],
   "source": [
    "#Exclusão de mapas sem informações\n",
    "del(de_maps[0],de_maps[1],de_maps[-2],de_maps[-3], de_maps[-1])"
   ]
  },
  {
   "cell_type": "markdown",
   "metadata": {},
   "source": [
    " "
   ]
  },
  {
   "cell_type": "markdown",
   "metadata": {},
   "source": [
    "## Retornando informações DataFrame com cada mapa."
   ]
  },
  {
   "cell_type": "code",
   "execution_count": 9,
   "metadata": {
    "ExecuteTime": {
     "end_time": "2020-10-29T14:38:50.539407Z",
     "start_time": "2020-10-29T14:38:50.524541Z"
    }
   },
   "outputs": [],
   "source": [
    "#Função onde retorna o dataframe de cada mapa jogado por ano\n",
    "\n",
    "def links_maps(ano,map_list):\n",
    "    links = []\n",
    "    \n",
    "    \n",
    "    for x in map_list:  \n",
    "        url = (f'https://www.hltv.org/stats/players?startDate=20{ano}-01-01&endDate=20{ano}-12-31&maps={x}&rankingFilter=Top20')\n",
    "        h2 = requests.get(url,headers = headers)\n",
    "        html = pd.read_html(h2.content)    \n",
    "        for y in html:\n",
    "            links.append(y)    \n",
    "\n",
    "    return links"
   ]
  },
  {
   "cell_type": "code",
   "execution_count": 10,
   "metadata": {
    "ExecuteTime": {
     "end_time": "2020-10-29T14:38:57.386570Z",
     "start_time": "2020-10-29T14:38:51.429131Z"
    },
    "scrolled": false
   },
   "outputs": [],
   "source": [
    "#chamando função e retornando partidas \n",
    "maps17 = links_maps(17,de_maps)"
   ]
  },
  {
   "cell_type": "code",
   "execution_count": 12,
   "metadata": {
    "ExecuteTime": {
     "end_time": "2020-10-29T14:39:07.205249Z",
     "start_time": "2020-10-29T14:39:07.078123Z"
    }
   },
   "outputs": [
    {
     "data": {
      "text/plain": [
       "[         Player  Teams  Maps  K-D Diff   K/D  Rating2.0\n",
       " 0           fer    NaN    27       138  1.30       1.30\n",
       " 1          NiKo    NaN    29       155  1.30       1.29\n",
       " 2      coldzera    NaN    27       167  1.41       1.24\n",
       " 3         boltz    NaN    23        77  1.21       1.23\n",
       " 4     GeT_RiGhT    NaN    34       108  1.19       1.18\n",
       " 5        draken    NaN    33       107  1.20       1.18\n",
       " 6      Stewie2K    NaN    22        38  1.09       1.17\n",
       " 7          rain    NaN    25        59  1.13       1.17\n",
       " 8        kennyS    NaN    31       132  1.25       1.17\n",
       " 9     autimatic    NaN    22        29  1.07       1.13\n",
       " 10        oskar    NaN    21        35  1.09       1.12\n",
       " 11          REZ    NaN    23        54  1.15       1.11\n",
       " 12         Zero    NaN    22        45  1.13       1.11\n",
       " 13       f0rest    NaN    33        77  1.13       1.10\n",
       " 14        ANGE1    NaN    23       -10  0.98       1.10\n",
       " 15       FalleN    NaN    27        58  1.13       1.09\n",
       " 16      DeadFox    NaN    23        29  1.08       1.09\n",
       " 17         NBK-    NaN    31        18  1.03       1.07\n",
       " 18         apEX    NaN    31       -36  0.94       1.06\n",
       " 19          RpK    NaN    20       -17  0.96       1.06\n",
       " 20         shox    NaN    29        25  1.05       1.04\n",
       " 21        STYKO    NaN    24        -1  1.00       1.04\n",
       " 22  olofmeister    NaN    28       -16  0.97       1.04\n",
       " 23        KRIMZ    NaN    23         9  1.02       1.03\n",
       " 24           JW    NaN    21        -7  0.98       1.03\n",
       " 25    Skadoodle    NaN    20        12  1.04       1.01\n",
       " 26         Xizt    NaN    34       -47  0.92       1.01\n",
       " 27        steel    NaN    21        -1  1.00       1.01\n",
       " 28         TACO    NaN    27         3  1.01       1.00\n",
       " 29        felps    NaN    22       -33  0.92       1.00\n",
       " 30        bodyy    NaN    29       -41  0.92       0.99\n",
       " 31        SIXER    NaN    22       -28  0.93       0.97\n",
       " 32        Happy    NaN    22       -52  0.88       0.93\n",
       " 33     karrigan    NaN    25       -70  0.86       0.93\n",
       " 34       flusha    NaN    21       -53  0.86       0.92,\n",
       "           Player  Teams  Maps  K-D Diff   K/D  Rating2.0\n",
       " 0           NBK-    NaN     2        16  1.53       1.41\n",
       " 1         flamie    NaN     2        13  1.43       1.39\n",
       " 2         draken    NaN     2        12  1.43       1.36\n",
       " 3    olofmeister    NaN     3        21  1.45       1.34\n",
       " 4       coldzera    NaN     2        12  1.32       1.31\n",
       " 5         dennis    NaN     3        11  1.22       1.30\n",
       " 6          twist    NaN     3        15  1.33       1.29\n",
       " 7            mou    NaN     2         7  1.25       1.27\n",
       " 8          oskar    NaN     3        13  1.29       1.27\n",
       " 9         device    NaN     2        11  1.26       1.26\n",
       " 10        Hobbit    NaN     2        10  1.42       1.25\n",
       " 11        gla1ve    NaN     2        10  1.26       1.21\n",
       " 12        kennyS    NaN     2         4  1.12       1.20\n",
       " 13          apEX    NaN     2        10  1.31       1.19\n",
       " 14        s1mple    NaN     2         7  1.23       1.19\n",
       " 15         MICHU    NaN     3         9  1.18       1.18\n",
       " 16          NiKo    NaN     4        13  1.21       1.14\n",
       " 17           REZ    NaN     2         3  1.09       1.12\n",
       " 18      Kjaerbye    NaN     2         2  1.05       1.11\n",
       " 19      freddieb    NaN     2        10  1.34       1.11\n",
       " 20         loWel    NaN     4         9  1.16       1.11\n",
       " 21         KRIMZ    NaN     3         7  1.18       1.10\n",
       " 22         AdreN    NaN     2         4  1.17       1.08\n",
       " 23          mouz    NaN     3         6  1.13       1.07\n",
       " 24        rallen    NaN     3         3  1.07       1.05\n",
       " 25           fox    NaN     2        -3  0.93       1.04\n",
       " 26         kalle    NaN     2         2  1.06       1.03\n",
       " 27          Zeus    NaN     2        -5  0.83       1.03\n",
       " 28       dupreeh    NaN     2        -3  0.93       1.00\n",
       " 29      GuardiaN    NaN     2        -2  0.93       0.98\n",
       " 30        Furlan    NaN     3         0  1.00       0.98\n",
       " 31         Xyp9x    NaN     2        -7  0.85       0.95\n",
       " 32        Edward    NaN     2         2  1.08       0.94\n",
       " 33         Dosia    NaN     2        -6  0.79       0.93\n",
       " 34  disco doplan    NaN     3        -5  0.88       0.93\n",
       " 35        SZPERO    NaN     3        -1  0.98       0.93\n",
       " 36         denis    NaN     4       -14  0.80       0.92\n",
       " 37        Spiidi    NaN     4        -6  0.90       0.90\n",
       " 38           fer    NaN     2       -12  0.74       0.89\n",
       " 39        seized    NaN     2        -6  0.81       0.86\n",
       " 40       BARBARR    NaN     2       -14  0.64       0.85\n",
       " 41        FalleN    NaN     2       -11  0.71       0.84\n",
       " 42         SIXER    NaN     2        -5  0.83       0.82\n",
       " 43         Happy    NaN     2       -14  0.64       0.80\n",
       " 44          TACO    NaN     2       -13  0.68       0.75,\n",
       "          Player  Teams  Maps  K-D Diff   K/D  Rating2.0\n",
       " 0          NiKo    NaN    47       282  1.36       1.32\n",
       " 1      coldzera    NaN    40       219  1.36       1.25\n",
       " 2           fer    NaN    40       108  1.14       1.22\n",
       " 3        s1mple    NaN    28       115  1.25       1.22\n",
       " 4        k0nfig    NaN    31        93  1.15       1.16\n",
       " 5         EliGE    NaN    32        60  1.09       1.16\n",
       " 6        FalleN    NaN    40       117  1.18       1.15\n",
       " 7         oskar    NaN    38       109  1.17       1.14\n",
       " 8      GuardiaN    NaN    50       157  1.20       1.14\n",
       " 9         Lekr0    NaN    28        58  1.11       1.14\n",
       " 10           JW    NaN    43        81  1.10       1.13\n",
       " 11       device    NaN    29        88  1.17       1.13\n",
       " 12         rain    NaN    45        49  1.06       1.13\n",
       " 13        felps    NaN    27        21  1.04       1.13\n",
       " 14  olofmeister    NaN    49       128  1.16       1.12\n",
       " 15      dupreeh    NaN    32        64  1.11       1.11\n",
       " 16      Twistzz    NaN    30        73  1.12       1.10\n",
       " 17    autimatic    NaN    36        36  1.06       1.10\n",
       " 18     Stewie2K    NaN    36         6  1.01       1.10\n",
       " 19       cajunb    NaN    31        67  1.12       1.09\n",
       " 20     Kjaerbye    NaN    32        64  1.11       1.09\n",
       " 21         aizy    NaN    33        -6  0.99       1.08\n",
       " 22       flusha    NaN    43        12  1.02       1.07\n",
       " 23  pashaBiceps    NaN    27        13  1.03       1.07\n",
       " 24         ropz    NaN    31        23  1.04       1.06\n",
       " 25        Xyp9x    NaN    32        25  1.05       1.06\n",
       " 26        tarik    NaN    29        -5  0.99       1.04\n",
       " 27    Skadoodle    NaN    33        42  1.08       1.04\n",
       " 28         RUSH    NaN    29       -15  0.97       1.02\n",
       " 29         Snax    NaN    28       -12  0.98       1.01\n",
       " 30         allu    NaN    27         7  1.01       0.99\n",
       " 31       chrisJ    NaN    34       -31  0.95       0.99\n",
       " 32          NEO    NaN    28       -51  0.90       0.99\n",
       " 33        STYKO    NaN    35       -56  0.92       0.99\n",
       " 34        jdm64    NaN    32       -55  0.91       0.99\n",
       " 35       Edward    NaN    27       -52  0.89       0.96\n",
       " 36       gla1ve    NaN    32       -65  0.89       0.95\n",
       " 37         TACO    NaN    40       -36  0.94       0.94\n",
       " 38     karrigan    NaN    45       -84  0.89       0.93\n",
       " 39        KRIMZ    NaN    40       -83  0.89       0.93\n",
       " 40        byali    NaN    28       -80  0.84       0.91\n",
       " 41        nitr0    NaN    32      -128  0.81       0.89\n",
       " 42          MSL    NaN    31      -143  0.78       0.88\n",
       " 43          TaZ    NaN    28      -143  0.72       0.82,\n",
       "          Player  Teams  Maps  K-D Diff   K/D  Rating2.0\n",
       " 0          rain    NaN    36       137  1.23       1.24\n",
       " 1          NiKo    NaN    36       117  1.20       1.18\n",
       " 2        device    NaN    40       154  1.24       1.17\n",
       " 3       Twistzz    NaN    30       100  1.21       1.16\n",
       " 4      coldzera    NaN    37       167  1.27       1.16\n",
       " 5          JUGi    NaN    31       100  1.21       1.15\n",
       " 6   olofmeister    NaN    41       110  1.16       1.14\n",
       " 7        ScreaM    NaN    29        58  1.12       1.14\n",
       " 8       dupreeh    NaN    46        88  1.11       1.13\n",
       " 9         EliGE    NaN    32        51  1.09       1.12\n",
       " 10       k0nfig    NaN    27        45  1.09       1.11\n",
       " 11        Happy    NaN    30        41  1.08       1.10\n",
       " 12         shox    NaN    38        59  1.09       1.10\n",
       " 13        Xyp9x    NaN    46        53  1.07       1.10\n",
       " 14        boltz    NaN    32        21  1.04       1.10\n",
       " 15        KRIMZ    NaN    32        50  1.09       1.09\n",
       " 16         apEX    NaN    38        36  1.05       1.09\n",
       " 17       kennyS    NaN    38        75  1.12       1.08\n",
       " 18    stanislaw    NaN    29       -10  0.98       1.08\n",
       " 19        steel    NaN    27        37  1.09       1.08\n",
       " 20       FalleN    NaN    37        16  1.02       1.08\n",
       " 21         niko    NaN    31        42  1.09       1.07\n",
       " 22           JW    NaN    33        39  1.06       1.06\n",
       " 23          fer    NaN    37         2  1.00       1.06\n",
       " 24     Kjaerbye    NaN    46        64  1.09       1.05\n",
       " 25          RpK    NaN    30       -40  0.93       1.04\n",
       " 26        bodyy    NaN    38       -29  0.96       1.04\n",
       " 27       flusha    NaN    33       -58  0.91       1.04\n",
       " 28       gla1ve    NaN    46       -43  0.94       1.02\n",
       " 29        jdm64    NaN    32         5  1.01       1.02\n",
       " 30        nitr0    NaN    32       -27  0.95       1.02\n",
       " 31         NBK-    NaN    38       -34  0.95       1.01\n",
       " 32          xms    NaN    30       -43  0.92       1.01\n",
       " 33  pashaBiceps    NaN    28        -9  0.98       1.00\n",
       " 34       cajunb    NaN    27       -11  0.98       1.00\n",
       " 35        felps    NaN    29       -58  0.90       0.99\n",
       " 36     karrigan    NaN    36       -67  0.89       0.98\n",
       " 37        byali    NaN    28       -17  0.96       0.98\n",
       " 38       Snappi    NaN    31       -60  0.89       0.98\n",
       " 39          TaZ    NaN    28       -36  0.92       0.96\n",
       " 40        SIXER    NaN    30       -42  0.92       0.96\n",
       " 41       MODDII    NaN    31       -66  0.88       0.96\n",
       " 42         Snax    NaN    28       -81  0.84       0.96\n",
       " 43         aizy    NaN    27       -61  0.88       0.95\n",
       " 44       es3tag    NaN    27       -92  0.81       0.94\n",
       " 45          MSL    NaN    27       -99  0.82       0.94\n",
       " 46          NEO    NaN    28       -83  0.83       0.92\n",
       " 47         TACO    NaN    37       -90  0.86       0.90,\n",
       "          Player  Teams  Maps  K-D Diff   K/D  Rating2.0\n",
       " 0        kennyS    NaN    26       174  1.39       1.29\n",
       " 1          NiKo    NaN    22       113  1.31       1.28\n",
       " 2          rain    NaN    23        80  1.19       1.23\n",
       " 3         oskar    NaN    26        85  1.18       1.21\n",
       " 4          ropz    NaN    20        93  1.26       1.20\n",
       " 5        device    NaN    26        90  1.21       1.20\n",
       " 6          shox    NaN    25        96  1.21       1.19\n",
       " 7           RpK    NaN    24        37  1.09       1.14\n",
       " 8         byali    NaN    25        45  1.10       1.14\n",
       " 9       dupreeh    NaN    29        34  1.06       1.14\n",
       " 10         JUGi    NaN    23        53  1.15       1.13\n",
       " 11         Snax    NaN    25        40  1.10       1.11\n",
       " 12       ScreaM    NaN    24        27  1.06       1.11\n",
       " 13        Happy    NaN    25        37  1.09       1.07\n",
       " 14    GeT_RiGhT    NaN    20       -11  0.97       1.06\n",
       " 15         niko    NaN    27         7  1.02       1.05\n",
       " 16       f0rest    NaN    20        15  1.04       1.05\n",
       " 17     Kjaerbye    NaN    29        20  1.04       1.05\n",
       " 18  pashaBiceps    NaN    25        23  1.06       1.04\n",
       " 19        Xyp9x    NaN    29        29  1.06       1.04\n",
       " 20         apEX    NaN    26        -8  0.98       1.04\n",
       " 21         NBK-    NaN    26        -6  0.99       1.03\n",
       " 22       Snappi    NaN    27        -1  1.00       1.03\n",
       " 23       chrisJ    NaN    25       -16  0.96       1.03\n",
       " 24        bodyy    NaN    25        -7  0.98       1.02\n",
       " 25          NEO    NaN    25       -18  0.96       1.01\n",
       " 26       MODDII    NaN    27        -7  0.98       1.01\n",
       " 27       gla1ve    NaN    29       -23  0.95       1.01\n",
       " 28       draken    NaN    21        10  1.03       1.01\n",
       " 29          TaZ    NaN    25       -39  0.91       0.95\n",
       " 30        SIXER    NaN    25       -23  0.94       0.95\n",
       " 31          xms    NaN    23       -60  0.85       0.94\n",
       " 32     karrigan    NaN    23       -46  0.89       0.93\n",
       " 33         Xizt    NaN    20       -49  0.86       0.93,\n",
       "          Player  Teams  Maps  K-D Diff   K/D  Rating2.0\n",
       " 0        device    NaN    37       201  1.37       1.24\n",
       " 1        draken    NaN    31       114  1.24       1.18\n",
       " 2     GeT_RiGhT    NaN    33        71  1.13       1.17\n",
       " 3       mixwell    NaN    28        79  1.17       1.16\n",
       " 4           fer    NaN    33        54  1.09       1.15\n",
       " 5      Stewie2K    NaN    36        54  1.08       1.14\n",
       " 6          NiKo    NaN    42       107  1.15       1.14\n",
       " 7        flusha    NaN    42        70  1.10       1.13\n",
       " 8          rain    NaN    44        27  1.03       1.13\n",
       " 9        f0rest    NaN    32        79  1.15       1.13\n",
       " 10     coldzera    NaN    33       115  1.23       1.13\n",
       " 11      dupreeh    NaN    40        37  1.06       1.11\n",
       " 12  olofmeister    NaN    40        64  1.09       1.10\n",
       " 13       FalleN    NaN    33        65  1.13       1.10\n",
       " 14     GuardiaN    NaN    28        63  1.13       1.10\n",
       " 15       Hobbit    NaN    30        53  1.10       1.10\n",
       " 16           JW    NaN    42        56  1.08       1.09\n",
       " 17     kioShiMa    NaN    29        13  1.03       1.09\n",
       " 18     Kjaerbye    NaN    40        51  1.08       1.08\n",
       " 19          RpK    NaN    28         0  1.00       1.08\n",
       " 20    autimatic    NaN    35        15  1.02       1.08\n",
       " 21        Xyp9x    NaN    40        27  1.04       1.07\n",
       " 22        AdreN    NaN    30         0  1.00       1.07\n",
       " 23        tarik    NaN    35       -13  0.98       1.06\n",
       " 24         RUSH    NaN    35        23  1.04       1.05\n",
       " 25         allu    NaN    38        66  1.11       1.05\n",
       " 26        byali    NaN    36       -26  0.96       1.04\n",
       " 27        Dosia    NaN    30       -10  0.98       1.04\n",
       " 28        KRIMZ    NaN    39         7  1.01       1.03\n",
       " 29    Skadoodle    NaN    35        44  1.08       1.03\n",
       " 30          mou    NaN    30         9  1.02       1.01\n",
       " 31         Snax    NaN    36       -17  0.97       0.99\n",
       " 32  pashaBiceps    NaN    36       -37  0.95       0.98\n",
       " 33         Xizt    NaN    33       -39  0.93       0.98\n",
       " 34       gla1ve    NaN    40       -77  0.89       0.97\n",
       " 35        STYKO    NaN    28       -47  0.90       0.96\n",
       " 36        SIXER    NaN    28       -15  0.97       0.95\n",
       " 37         TACO    NaN    33       -63  0.89       0.93\n",
       " 38        Happy    NaN    28       -35  0.93       0.93\n",
       " 39     karrigan    NaN    44       -91  0.88       0.92\n",
       " 40          TaZ    NaN    36       -95  0.86       0.91\n",
       " 41          NEO    NaN    36      -136  0.80       0.89,\n",
       "          Player  Teams  Maps  K-D Diff   K/D  Rating2.0\n",
       " 0           fer    NaN    28       107  1.24       1.31\n",
       " 1        s1mple    NaN    30       165  1.31       1.28\n",
       " 2      coldzera    NaN    28       170  1.43       1.26\n",
       " 3          NiKo    NaN    40       149  1.24       1.22\n",
       " 4          rain    NaN    43        99  1.14       1.19\n",
       " 5         boltz    NaN    24        55  1.13       1.17\n",
       " 6         Xyp9x    NaN    35        98  1.16       1.15\n",
       " 7      Kjaerbye    NaN    35        52  1.08       1.15\n",
       " 8        FalleN    NaN    28        90  1.24       1.15\n",
       " 9   olofmeister    NaN    37       103  1.18       1.15\n",
       " 10     GuardiaN    NaN    39       130  1.22       1.15\n",
       " 11         JUGi    NaN    28       104  1.22       1.14\n",
       " 12      dupreeh    NaN    35        72  1.11       1.12\n",
       " 13       f0rest    NaN    23        51  1.11       1.10\n",
       " 14         niko    NaN    32         9  1.02       1.09\n",
       " 15       device    NaN    29        47  1.09       1.09\n",
       " 16         NBK-    NaN    31       -12  0.98       1.08\n",
       " 17       kennyS    NaN    31        56  1.10       1.06\n",
       " 18         apEX    NaN    31        17  1.03       1.06\n",
       " 19         shox    NaN    32        12  1.02       1.06\n",
       " 20       flamie    NaN    28        -1  1.00       1.05\n",
       " 21       Snappi    NaN    32        -9  0.99       1.05\n",
       " 22    GeT_RiGhT    NaN    23       -12  0.97       1.03\n",
       " 23        bodyy    NaN    32       -36  0.94       1.02\n",
       " 24         TACO    NaN    28        -4  0.99       1.02\n",
       " 25     karrigan    NaN    43       -31  0.96       1.01\n",
       " 26       gla1ve    NaN    35       -32  0.95       1.01\n",
       " 27         Xizt    NaN    23       -42  0.91       1.01\n",
       " 28       MODDII    NaN    32       -34  0.94       1.01\n",
       " 29       Edward    NaN    30       -25  0.96       1.00\n",
       " 30         allu    NaN    28       -10  0.98       0.99\n",
       " 31         Zeus    NaN    24       -41  0.91       0.97]"
      ]
     },
     "execution_count": 12,
     "metadata": {},
     "output_type": "execute_result"
    }
   ],
   "source": [
    "maps17"
   ]
  },
  {
   "cell_type": "code",
   "execution_count": 13,
   "metadata": {
    "ExecuteTime": {
     "end_time": "2020-10-29T14:39:30.161110Z",
     "start_time": "2020-10-29T14:39:24.131803Z"
    }
   },
   "outputs": [],
   "source": [
    "maps18 = links_maps(18,de_maps)"
   ]
  },
  {
   "cell_type": "code",
   "execution_count": 14,
   "metadata": {
    "ExecuteTime": {
     "end_time": "2020-10-29T14:39:35.171194Z",
     "start_time": "2020-10-29T14:39:30.162647Z"
    }
   },
   "outputs": [],
   "source": [
    "maps19 = links_maps(19,de_maps)"
   ]
  },
  {
   "cell_type": "code",
   "execution_count": 15,
   "metadata": {
    "ExecuteTime": {
     "end_time": "2020-10-29T14:39:41.236468Z",
     "start_time": "2020-10-29T14:39:35.172191Z"
    }
   },
   "outputs": [],
   "source": [
    "maps20 = links_maps(20,de_maps)"
   ]
  },
  {
   "cell_type": "markdown",
   "metadata": {},
   "source": [
    " "
   ]
  },
  {
   "cell_type": "markdown",
   "metadata": {},
   "source": [
    "##### Separando os dados por mapas"
   ]
  },
  {
   "cell_type": "code",
   "execution_count": 16,
   "metadata": {
    "ExecuteTime": {
     "end_time": "2020-10-29T14:39:43.237363Z",
     "start_time": "2020-10-29T14:39:43.104519Z"
    }
   },
   "outputs": [],
   "source": [
    "de_cache_17 = maps17[0]\n",
    "de_dust2_17 = maps17[1]\n",
    "de_mirage_17 = maps17[2]\n",
    "de_inferno_17 = maps17[3]\n",
    "de_nuke_17 = maps17[4]\n",
    "de_train_17 = maps17[5]\n",
    "de_overpass_17 = maps17[6]\n",
    "\n",
    "\n",
    "#Criando uma tabela com nomes dos mapas para fazer um append em um único DataFrame\n",
    "\n",
    "de_cache_17['map_name'] = 'de_cache'\n",
    "de_dust2_17['map_name'] = 'de_dust2'\n",
    "de_mirage_17['map_name'] = 'de_mirage'\n",
    "de_inferno_17['map_name'] = 'de_inferno'\n",
    "de_nuke_17['map_name'] = 'de_nuke'\n",
    "de_train_17['map_name'] = 'de_train'\n",
    "de_overpass_17['map_name'] = 'de_overpass'\n",
    "\n",
    "map_2017 = de_cache_17.append([de_dust2_17, de_mirage_17, de_inferno_17, de_nuke_17, de_train_17, de_overpass_17])"
   ]
  },
  {
   "cell_type": "code",
   "execution_count": 17,
   "metadata": {
    "ExecuteTime": {
     "end_time": "2020-10-29T14:39:44.085522Z",
     "start_time": "2020-10-29T14:39:44.041307Z"
    }
   },
   "outputs": [],
   "source": [
    "de_cache_18 = maps18[0]\n",
    "de_dust2_18 = maps18[1]\n",
    "de_mirage_18 = maps18[2]\n",
    "de_inferno_18 =maps18[3]\n",
    "de_nuke_18 = maps18[4]\n",
    "de_train_18 = maps18[5]\n",
    "de_overpass_18 = maps18[6]\n",
    "\n",
    "de_cache_18['map_name'] = 'de_cache'\n",
    "de_dust2_18['map_name'] = 'de_dust2'\n",
    "de_mirage_18['map_name'] = 'de_mirage'\n",
    "de_inferno_18['map_name'] = 'de_inferno'\n",
    "de_nuke_18['map_name'] = 'de_nuke'\n",
    "de_train_18['map_name'] = 'de_train'\n",
    "de_overpass_18['map_name'] = 'de_overpass'\n",
    "\n",
    "map_2018 = de_cache_18.append([de_dust2_18, de_mirage_18, de_inferno_18, de_nuke_18, de_train_18, de_overpass_18])"
   ]
  },
  {
   "cell_type": "code",
   "execution_count": 18,
   "metadata": {
    "ExecuteTime": {
     "end_time": "2020-10-29T14:39:45.270135Z",
     "start_time": "2020-10-29T14:39:45.223373Z"
    }
   },
   "outputs": [],
   "source": [
    "de_cache_19 = maps19[0]\n",
    "de_dust2_19 = maps19[1]\n",
    "de_mirage_19 = maps19[2]\n",
    "de_inferno_19 = maps19[3]\n",
    "de_nuke_19 = maps19[4]\n",
    "de_train_19 = maps19[5]\n",
    "de_overpass_19 = maps19[6]\n",
    "\n",
    "de_cache_19['map_name'] = 'de_cache'\n",
    "de_dust2_19['map_name'] = 'de_dust2'\n",
    "de_mirage_19['map_name'] = 'de_mirage'\n",
    "de_inferno_19['map_name'] = 'de_inferno'\n",
    "de_nuke_19['map_name'] = 'de_nuke'\n",
    "de_train_19['map_name'] = 'de_train'\n",
    "de_overpass_19['map_name'] = 'de_overpass'\n",
    "\n",
    "map_2019 = de_cache_19.append([de_dust2_19, de_mirage_19, de_inferno_19, de_nuke_19, de_train_19, de_overpass_19])"
   ]
  },
  {
   "cell_type": "code",
   "execution_count": 19,
   "metadata": {
    "ExecuteTime": {
     "end_time": "2020-10-29T14:39:46.953146Z",
     "start_time": "2020-10-29T14:39:46.924027Z"
    }
   },
   "outputs": [],
   "source": [
    "de_cache_20 = maps20[0]\n",
    "de_dust2_20 = maps20[1]\n",
    "de_mirage_20 = maps20[2]\n",
    "de_inferno_20 = maps20[3]\n",
    "de_nuke_20 = maps20[4]\n",
    "de_train_20 = maps20[5]\n",
    "de_overpass_20 = maps20[6]\n",
    "\n",
    "de_cache_20['map_name'] = 'de_cache'\n",
    "de_dust2_20['map_name'] = 'de_dust2'\n",
    "de_mirage_20['map_name'] = 'de_mirage'\n",
    "de_inferno_20['map_name'] = 'de_inferno'\n",
    "de_nuke_20['map_name'] = 'de_nuke'\n",
    "de_train_20['map_name'] = 'de_train'\n",
    "de_overpass_20['map_name'] = 'de_overpass'\n",
    "\n",
    "map_2020 = de_cache_20.append([de_dust2_20, de_mirage_20, de_inferno_20, de_nuke_20, de_train_20, de_overpass_20])"
   ]
  },
  {
   "cell_type": "markdown",
   "metadata": {},
   "source": [
    "---- "
   ]
  },
  {
   "cell_type": "code",
   "execution_count": 20,
   "metadata": {
    "ExecuteTime": {
     "end_time": "2020-10-29T14:39:48.557783Z",
     "start_time": "2020-10-29T14:39:48.550150Z"
    }
   },
   "outputs": [],
   "source": [
    "#Os Nomes dos DataFrame\n",
    "#['map_2017','map_2018','map_2019','map_2020']"
   ]
  },
  {
   "cell_type": "markdown",
   "metadata": {},
   "source": [
    " "
   ]
  },
  {
   "cell_type": "code",
   "execution_count": 21,
   "metadata": {
    "ExecuteTime": {
     "end_time": "2020-10-29T14:39:49.969880Z",
     "start_time": "2020-10-29T14:39:49.951221Z"
    }
   },
   "outputs": [],
   "source": [
    "#Retornando nomes dos times\n",
    "\n",
    "def team(ano,map_list):\n",
    "    teams = []    \n",
    "\n",
    "    for x in de_maps:   \n",
    "        url = f'https://www.hltv.org/stats/players?startDate=20{ano}-01-01&endDate=20{ano}-12-31&maps={x}&rankingFilter=Top20'\n",
    "        h2 = requests.get(url,headers = headers)\n",
    "        soup = BeautifulSoup(h2.content)\n",
    "        for y in range(1,len(soup.find_all('tr'))):\n",
    "            teams.append(soup.find_all('tr')[y].find_all('img')[1].get('title'))\n",
    "            \n",
    "    return teams"
   ]
  },
  {
   "cell_type": "code",
   "execution_count": 22,
   "metadata": {
    "ExecuteTime": {
     "end_time": "2020-10-29T14:39:56.074450Z",
     "start_time": "2020-10-29T14:39:51.526857Z"
    }
   },
   "outputs": [],
   "source": [
    "teams_17 = team(17,de_maps)"
   ]
  },
  {
   "cell_type": "code",
   "execution_count": 23,
   "metadata": {
    "ExecuteTime": {
     "end_time": "2020-10-29T14:40:01.496692Z",
     "start_time": "2020-10-29T14:39:56.076256Z"
    }
   },
   "outputs": [],
   "source": [
    "teams_18 = team(18,de_maps)"
   ]
  },
  {
   "cell_type": "code",
   "execution_count": 24,
   "metadata": {
    "ExecuteTime": {
     "end_time": "2020-10-29T14:40:08.021616Z",
     "start_time": "2020-10-29T14:40:01.496692Z"
    }
   },
   "outputs": [],
   "source": [
    "teams_19 = team(19,de_maps)"
   ]
  },
  {
   "cell_type": "code",
   "execution_count": 25,
   "metadata": {
    "ExecuteTime": {
     "end_time": "2020-10-29T14:40:12.556677Z",
     "start_time": "2020-10-29T14:40:08.023439Z"
    }
   },
   "outputs": [],
   "source": [
    "teams_20 = team(20,de_maps)"
   ]
  },
  {
   "cell_type": "markdown",
   "metadata": {
    "ExecuteTime": {
     "end_time": "2020-10-09T21:55:28.913234Z",
     "start_time": "2020-10-09T21:55:28.902260Z"
    }
   },
   "source": [
    "  "
   ]
  },
  {
   "cell_type": "code",
   "execution_count": 26,
   "metadata": {
    "ExecuteTime": {
     "end_time": "2020-10-29T14:41:40.064855Z",
     "start_time": "2020-10-29T14:41:40.017674Z"
    }
   },
   "outputs": [],
   "source": [
    "#completando os DataFrames com os nomes dos times\n",
    "\n",
    "map_2017['Teams'] = teams_17\n",
    "map_2018['Teams'] = teams_18\n",
    "map_2019['Teams'] = teams_19\n",
    "map_2020['Teams'] = teams_20"
   ]
  },
  {
   "cell_type": "code",
   "execution_count": 27,
   "metadata": {
    "ExecuteTime": {
     "end_time": "2020-10-29T14:41:44.247072Z",
     "start_time": "2020-10-29T14:41:44.240207Z"
    }
   },
   "outputs": [],
   "source": [
    "def organizer(df):\n",
    "    return [df.query('map_name == \"de_dust2\"').iloc[:10],\n",
    "           df.query('map_name == \"de_cache\"').iloc[:10]]\n",
    "  "
   ]
  },
  {
   "cell_type": "code",
   "execution_count": 28,
   "metadata": {
    "ExecuteTime": {
     "end_time": "2020-10-29T14:41:54.279377Z",
     "start_time": "2020-10-29T14:41:53.862960Z"
    }
   },
   "outputs": [
    {
     "data": {
      "text/html": [
       "<div>\n",
       "<style scoped>\n",
       "    .dataframe tbody tr th:only-of-type {\n",
       "        vertical-align: middle;\n",
       "    }\n",
       "\n",
       "    .dataframe tbody tr th {\n",
       "        vertical-align: top;\n",
       "    }\n",
       "\n",
       "    .dataframe thead th {\n",
       "        text-align: right;\n",
       "    }\n",
       "</style>\n",
       "<table border=\"1\" class=\"dataframe\">\n",
       "  <thead>\n",
       "    <tr style=\"text-align: right;\">\n",
       "      <th></th>\n",
       "      <th>Player</th>\n",
       "      <th>Teams</th>\n",
       "      <th>Maps</th>\n",
       "      <th>K-D Diff</th>\n",
       "      <th>K/D</th>\n",
       "      <th>Rating2.0</th>\n",
       "      <th>map_name</th>\n",
       "    </tr>\n",
       "  </thead>\n",
       "  <tbody>\n",
       "    <tr>\n",
       "      <th>0</th>\n",
       "      <td>dupreeh</td>\n",
       "      <td>Astralis</td>\n",
       "      <td>19</td>\n",
       "      <td>112</td>\n",
       "      <td>1.45</td>\n",
       "      <td>1.34</td>\n",
       "      <td>de_dust2</td>\n",
       "    </tr>\n",
       "    <tr>\n",
       "      <th>1</th>\n",
       "      <td>Xyp9x</td>\n",
       "      <td>Astralis</td>\n",
       "      <td>19</td>\n",
       "      <td>126</td>\n",
       "      <td>1.55</td>\n",
       "      <td>1.33</td>\n",
       "      <td>de_dust2</td>\n",
       "    </tr>\n",
       "    <tr>\n",
       "      <th>2</th>\n",
       "      <td>device</td>\n",
       "      <td>Astralis</td>\n",
       "      <td>19</td>\n",
       "      <td>115</td>\n",
       "      <td>1.48</td>\n",
       "      <td>1.33</td>\n",
       "      <td>de_dust2</td>\n",
       "    </tr>\n",
       "    <tr>\n",
       "      <th>3</th>\n",
       "      <td>woxic</td>\n",
       "      <td>HellRaisers</td>\n",
       "      <td>15</td>\n",
       "      <td>68</td>\n",
       "      <td>1.28</td>\n",
       "      <td>1.28</td>\n",
       "      <td>de_dust2</td>\n",
       "    </tr>\n",
       "    <tr>\n",
       "      <th>4</th>\n",
       "      <td>tabseN</td>\n",
       "      <td>BIG</td>\n",
       "      <td>19</td>\n",
       "      <td>74</td>\n",
       "      <td>1.25</td>\n",
       "      <td>1.27</td>\n",
       "      <td>de_dust2</td>\n",
       "    </tr>\n",
       "    <tr>\n",
       "      <th>5</th>\n",
       "      <td>s1mple</td>\n",
       "      <td>Natus Vincere</td>\n",
       "      <td>18</td>\n",
       "      <td>103</td>\n",
       "      <td>1.39</td>\n",
       "      <td>1.27</td>\n",
       "      <td>de_dust2</td>\n",
       "    </tr>\n",
       "    <tr>\n",
       "      <th>6</th>\n",
       "      <td>Magisk</td>\n",
       "      <td>Astralis</td>\n",
       "      <td>19</td>\n",
       "      <td>111</td>\n",
       "      <td>1.50</td>\n",
       "      <td>1.26</td>\n",
       "      <td>de_dust2</td>\n",
       "    </tr>\n",
       "    <tr>\n",
       "      <th>7</th>\n",
       "      <td>nex</td>\n",
       "      <td>BIG</td>\n",
       "      <td>19</td>\n",
       "      <td>82</td>\n",
       "      <td>1.27</td>\n",
       "      <td>1.24</td>\n",
       "      <td>de_dust2</td>\n",
       "    </tr>\n",
       "    <tr>\n",
       "      <th>8</th>\n",
       "      <td>NiKo</td>\n",
       "      <td>FaZe</td>\n",
       "      <td>15</td>\n",
       "      <td>68</td>\n",
       "      <td>1.25</td>\n",
       "      <td>1.22</td>\n",
       "      <td>de_dust2</td>\n",
       "    </tr>\n",
       "    <tr>\n",
       "      <th>9</th>\n",
       "      <td>kennyS</td>\n",
       "      <td>G2</td>\n",
       "      <td>19</td>\n",
       "      <td>80</td>\n",
       "      <td>1.23</td>\n",
       "      <td>1.21</td>\n",
       "      <td>de_dust2</td>\n",
       "    </tr>\n",
       "  </tbody>\n",
       "</table>\n",
       "</div>"
      ],
      "text/plain": [
       "    Player          Teams  Maps  K-D Diff   K/D  Rating2.0  map_name\n",
       "0  dupreeh       Astralis    19       112  1.45       1.34  de_dust2\n",
       "1    Xyp9x       Astralis    19       126  1.55       1.33  de_dust2\n",
       "2   device       Astralis    19       115  1.48       1.33  de_dust2\n",
       "3    woxic    HellRaisers    15        68  1.28       1.28  de_dust2\n",
       "4   tabseN            BIG    19        74  1.25       1.27  de_dust2\n",
       "5   s1mple  Natus Vincere    18       103  1.39       1.27  de_dust2\n",
       "6   Magisk       Astralis    19       111  1.50       1.26  de_dust2\n",
       "7      nex            BIG    19        82  1.27       1.24  de_dust2\n",
       "8     NiKo           FaZe    15        68  1.25       1.22  de_dust2\n",
       "9   kennyS             G2    19        80  1.23       1.21  de_dust2"
      ]
     },
     "execution_count": 28,
     "metadata": {},
     "output_type": "execute_result"
    }
   ],
   "source": [
    "organizer(map_2018)[0]"
   ]
  },
  {
   "cell_type": "code",
   "execution_count": 34,
   "metadata": {
    "ExecuteTime": {
     "end_time": "2020-10-29T14:43:42.457125Z",
     "start_time": "2020-10-29T14:43:42.425715Z"
    }
   },
   "outputs": [
    {
     "data": {
      "text/html": [
       "<div>\n",
       "<style scoped>\n",
       "    .dataframe tbody tr th:only-of-type {\n",
       "        vertical-align: middle;\n",
       "    }\n",
       "\n",
       "    .dataframe tbody tr th {\n",
       "        vertical-align: top;\n",
       "    }\n",
       "\n",
       "    .dataframe thead th {\n",
       "        text-align: right;\n",
       "    }\n",
       "</style>\n",
       "<table border=\"1\" class=\"dataframe\">\n",
       "  <thead>\n",
       "    <tr style=\"text-align: right;\">\n",
       "      <th></th>\n",
       "      <th>Player</th>\n",
       "      <th>Teams</th>\n",
       "      <th>Maps</th>\n",
       "      <th>K-D Diff</th>\n",
       "      <th>K/D</th>\n",
       "      <th>Rating2.0</th>\n",
       "      <th>map_name</th>\n",
       "    </tr>\n",
       "  </thead>\n",
       "  <tbody>\n",
       "    <tr>\n",
       "      <th>0</th>\n",
       "      <td>NBK-</td>\n",
       "      <td>Envy</td>\n",
       "      <td>2</td>\n",
       "      <td>16</td>\n",
       "      <td>1.53</td>\n",
       "      <td>1.41</td>\n",
       "      <td>de_dust2</td>\n",
       "    </tr>\n",
       "    <tr>\n",
       "      <th>1</th>\n",
       "      <td>flamie</td>\n",
       "      <td>Natus Vincere</td>\n",
       "      <td>2</td>\n",
       "      <td>13</td>\n",
       "      <td>1.43</td>\n",
       "      <td>1.39</td>\n",
       "      <td>de_dust2</td>\n",
       "    </tr>\n",
       "    <tr>\n",
       "      <th>2</th>\n",
       "      <td>draken</td>\n",
       "      <td>Epsilon</td>\n",
       "      <td>2</td>\n",
       "      <td>12</td>\n",
       "      <td>1.43</td>\n",
       "      <td>1.36</td>\n",
       "      <td>de_dust2</td>\n",
       "    </tr>\n",
       "    <tr>\n",
       "      <th>3</th>\n",
       "      <td>olofmeister</td>\n",
       "      <td>fnatic</td>\n",
       "      <td>3</td>\n",
       "      <td>21</td>\n",
       "      <td>1.45</td>\n",
       "      <td>1.34</td>\n",
       "      <td>de_dust2</td>\n",
       "    </tr>\n",
       "    <tr>\n",
       "      <th>4</th>\n",
       "      <td>coldzera</td>\n",
       "      <td>SK</td>\n",
       "      <td>2</td>\n",
       "      <td>12</td>\n",
       "      <td>1.32</td>\n",
       "      <td>1.31</td>\n",
       "      <td>de_dust2</td>\n",
       "    </tr>\n",
       "    <tr>\n",
       "      <th>5</th>\n",
       "      <td>dennis</td>\n",
       "      <td>fnatic</td>\n",
       "      <td>3</td>\n",
       "      <td>11</td>\n",
       "      <td>1.22</td>\n",
       "      <td>1.30</td>\n",
       "      <td>de_dust2</td>\n",
       "    </tr>\n",
       "    <tr>\n",
       "      <th>6</th>\n",
       "      <td>twist</td>\n",
       "      <td>fnatic</td>\n",
       "      <td>3</td>\n",
       "      <td>15</td>\n",
       "      <td>1.33</td>\n",
       "      <td>1.29</td>\n",
       "      <td>de_dust2</td>\n",
       "    </tr>\n",
       "    <tr>\n",
       "      <th>7</th>\n",
       "      <td>mou</td>\n",
       "      <td>Gambit</td>\n",
       "      <td>2</td>\n",
       "      <td>7</td>\n",
       "      <td>1.25</td>\n",
       "      <td>1.27</td>\n",
       "      <td>de_dust2</td>\n",
       "    </tr>\n",
       "    <tr>\n",
       "      <th>8</th>\n",
       "      <td>oskar</td>\n",
       "      <td>mousesports</td>\n",
       "      <td>3</td>\n",
       "      <td>13</td>\n",
       "      <td>1.29</td>\n",
       "      <td>1.27</td>\n",
       "      <td>de_dust2</td>\n",
       "    </tr>\n",
       "    <tr>\n",
       "      <th>9</th>\n",
       "      <td>device</td>\n",
       "      <td>Astralis</td>\n",
       "      <td>2</td>\n",
       "      <td>11</td>\n",
       "      <td>1.26</td>\n",
       "      <td>1.26</td>\n",
       "      <td>de_dust2</td>\n",
       "    </tr>\n",
       "    <tr>\n",
       "      <th>10</th>\n",
       "      <td>Hobbit</td>\n",
       "      <td>Gambit</td>\n",
       "      <td>2</td>\n",
       "      <td>10</td>\n",
       "      <td>1.42</td>\n",
       "      <td>1.25</td>\n",
       "      <td>de_dust2</td>\n",
       "    </tr>\n",
       "  </tbody>\n",
       "</table>\n",
       "</div>"
      ],
      "text/plain": [
       "         Player          Teams  Maps  K-D Diff   K/D  Rating2.0  map_name\n",
       "0          NBK-           Envy     2        16  1.53       1.41  de_dust2\n",
       "1        flamie  Natus Vincere     2        13  1.43       1.39  de_dust2\n",
       "2        draken        Epsilon     2        12  1.43       1.36  de_dust2\n",
       "3   olofmeister         fnatic     3        21  1.45       1.34  de_dust2\n",
       "4      coldzera             SK     2        12  1.32       1.31  de_dust2\n",
       "5        dennis         fnatic     3        11  1.22       1.30  de_dust2\n",
       "6         twist         fnatic     3        15  1.33       1.29  de_dust2\n",
       "7           mou         Gambit     2         7  1.25       1.27  de_dust2\n",
       "8         oskar    mousesports     3        13  1.29       1.27  de_dust2\n",
       "9        device       Astralis     2        11  1.26       1.26  de_dust2\n",
       "10       Hobbit         Gambit     2        10  1.42       1.25  de_dust2"
      ]
     },
     "execution_count": 34,
     "metadata": {},
     "output_type": "execute_result"
    }
   ],
   "source": [
    "map_2017.query('map_name == \"de_dust2\"').loc[:10]"
   ]
  },
  {
   "cell_type": "code",
   "execution_count": 30,
   "metadata": {
    "ExecuteTime": {
     "end_time": "2020-10-29T14:42:05.513790Z",
     "start_time": "2020-10-29T14:42:05.425016Z"
    }
   },
   "outputs": [],
   "source": [
    "#Salvando arquivos em csv\n",
    "\n",
    "map_2017.to_csv('map_2017.csv')\n",
    "map_2018.to_csv('map_2018.csv')\n",
    "map_2019.to_csv('map_2019.csv')\n",
    "map_2020.to_csv('map_2020.csv')"
   ]
  }
 ],
 "metadata": {
  "kernelspec": {
   "display_name": "Python 3",
   "language": "python",
   "name": "python3"
  },
  "language_info": {
   "codemirror_mode": {
    "name": "ipython",
    "version": 3
   },
   "file_extension": ".py",
   "mimetype": "text/x-python",
   "name": "python",
   "nbconvert_exporter": "python",
   "pygments_lexer": "ipython3",
   "version": "3.7.6"
  },
  "toc": {
   "base_numbering": 1,
   "nav_menu": {},
   "number_sections": true,
   "sideBar": true,
   "skip_h1_title": false,
   "title_cell": "Table of Contents",
   "title_sidebar": "Contents",
   "toc_cell": false,
   "toc_position": {},
   "toc_section_display": true,
   "toc_window_display": false
  },
  "varInspector": {
   "cols": {
    "lenName": 16,
    "lenType": 16,
    "lenVar": 40
   },
   "kernels_config": {
    "python": {
     "delete_cmd_postfix": "",
     "delete_cmd_prefix": "del ",
     "library": "var_list.py",
     "varRefreshCmd": "print(var_dic_list())"
    },
    "r": {
     "delete_cmd_postfix": ") ",
     "delete_cmd_prefix": "rm(",
     "library": "var_list.r",
     "varRefreshCmd": "cat(var_dic_list()) "
    }
   },
   "types_to_exclude": [
    "module",
    "function",
    "builtin_function_or_method",
    "instance",
    "_Feature"
   ],
   "window_display": false
  }
 },
 "nbformat": 4,
 "nbformat_minor": 4
}
