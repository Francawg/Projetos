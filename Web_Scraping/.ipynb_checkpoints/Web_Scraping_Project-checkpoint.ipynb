{
 "cells": [
  {
   "cell_type": "markdown",
   "metadata": {
    "ExecuteTime": {
     "end_time": "2020-09-27T23:04:31.391950Z",
     "start_time": "2020-09-27T23:04:31.375993Z"
    }
   },
   "source": [
    "![Ironhack logo](https://i.imgur.com/1QgrNNw.png)"
   ]
  },
  {
   "cell_type": "markdown",
   "metadata": {},
   "source": [
    "# Projeto Web Scraping"
   ]
  },
  {
   "cell_type": "markdown",
   "metadata": {},
   "source": [
    "##### Nome: Wagner G França"
   ]
  },
  {
   "cell_type": "markdown",
   "metadata": {},
   "source": [
    " "
   ]
  },
  {
   "cell_type": "markdown",
   "metadata": {},
   "source": [
    " ## Os Dados serão extraídos da  \" _hlt.org_ \""
   ]
  },
  {
   "cell_type": "markdown",
   "metadata": {
    "ExecuteTime": {
     "end_time": "2020-09-27T23:06:01.208335Z",
     "start_time": "2020-09-27T23:06:01.193402Z"
    }
   },
   "source": [
    "![hltv1.png](https://encrypted-tbn0.gstatic.com/images?q=tbn%3AANd9GcQBnhiLqKkFdTC2OL-Kmx42rtoK0e65LJ-xcA&usqp=CAU)  "
   ]
  },
  {
   "cell_type": "markdown",
   "metadata": {},
   "source": [
    "## Devido a pandemia do COVID-19, não foram possiveis extrair dados de 6 meses atrás.\n"
   ]
  },
  {
   "cell_type": "markdown",
   "metadata": {},
   "source": [
    "## Importando Bibliotecas necessárias\n"
   ]
  },
  {
   "cell_type": "code",
   "execution_count": 8,
   "metadata": {
    "ExecuteTime": {
     "end_time": "2020-10-09T20:43:46.593868Z",
     "start_time": "2020-10-09T20:43:35.733937Z"
    }
   },
   "outputs": [],
   "source": [
    "import numpy as np\n",
    "import pandas as pd\n",
    "import requests\n",
    "from bs4 import BeautifulSoup\n",
    "import re\n",
    "import random"
   ]
  },
  {
   "cell_type": "markdown",
   "metadata": {},
   "source": [
    " "
   ]
  },
  {
   "cell_type": "markdown",
   "metadata": {
    "ExecuteTime": {
     "end_time": "2020-09-30T20:38:23.170921Z",
     "start_time": "2020-09-30T20:38:23.159950Z"
    }
   },
   "source": [
    "##### Urls para scraping\n"
   ]
  },
  {
   "cell_type": "markdown",
   "metadata": {
    "ExecuteTime": {
     "end_time": "2020-09-30T20:38:23.626187Z",
     "start_time": "2020-09-30T20:38:23.620204Z"
    }
   },
   "source": [
    "Será extraído todas as partidas ano a ano\n",
    "\n",
    "A ideia desse web scraping é trazer as estatiscas dos jogadores a cada ano e averiguar quais mapas eles se destacam"
   ]
  },
  {
   "cell_type": "markdown",
   "metadata": {},
   "source": [
    " "
   ]
  },
  {
   "cell_type": "code",
   "execution_count": 9,
   "metadata": {
    "ExecuteTime": {
     "end_time": "2020-10-09T20:43:49.843066Z",
     "start_time": "2020-10-09T20:43:49.839141Z"
    }
   },
   "outputs": [],
   "source": [
    "headers={'User-Agent': 'Mozilla/5.0 (Windows NT 10.0; Win64; x64) AppleWebKit/537.36 (KHTML, like Gecko) Chrome/76.0.3809.100 Safari/537.36'}\n",
    "\n",
    "y_17 = ('https://www.hltv.org/stats/players?startDate=2017-01-01&endDate=2017-12-31&maps=all&rankingFilter=Top20')\n",
    "\n",
    "y_18 = ('https://www.hltv.org/stats/players?startDate=2018-01-01&endDate=2018-12-31&maps=all&rankingFilter=Top20')\n",
    "\n",
    "y_19 = ('https://www.hltv.org/stats/players?startDate=2019-01-01&endDate=2019-12-31&maps=all&rankingFilter=Top20')\n",
    "\n",
    "y_20 = ('https://www.hltv.org/stats/players?startDate=2020-01-01&endDate=2020-12-31&maps=all&rankingFilter=Top20')"
   ]
  },
  {
   "cell_type": "code",
   "execution_count": 10,
   "metadata": {
    "ExecuteTime": {
     "end_time": "2020-10-09T20:43:57.713007Z",
     "start_time": "2020-10-09T20:43:51.764002Z"
    }
   },
   "outputs": [],
   "source": [
    "year_2017 = requests.get(y_17,headers = headers)\n",
    "\n",
    "year_2018 = requests.get(y_18,headers = headers)\n",
    "\n",
    "year_2019 = requests.get(y_19,headers = headers)\n",
    "\n",
    "year_2020 = requests.get(y_20,headers = headers)"
   ]
  },
  {
   "cell_type": "markdown",
   "metadata": {},
   "source": [
    " "
   ]
  },
  {
   "cell_type": "markdown",
   "metadata": {},
   "source": [
    "## Creating a soup"
   ]
  },
  {
   "cell_type": "code",
   "execution_count": 24,
   "metadata": {
    "ExecuteTime": {
     "end_time": "2020-10-09T20:47:11.547038Z",
     "start_time": "2020-10-09T20:47:11.229728Z"
    }
   },
   "outputs": [],
   "source": [
    "soup_2017 = BeautifulSoup(year_2017.content)\n",
    "\n",
    "soup_2018 = BeautifulSoup(year_2018.content)\n",
    "\n",
    "soup_2019 = BeautifulSoup(year_2019.content)\n",
    "\n",
    "soup_2020 = BeautifulSoup(year_2020.content)"
   ]
  },
  {
   "cell_type": "markdown",
   "metadata": {},
   "source": [
    " "
   ]
  },
  {
   "cell_type": "markdown",
   "metadata": {},
   "source": [
    "## Read a HTML"
   ]
  },
  {
   "cell_type": "code",
   "execution_count": 25,
   "metadata": {
    "ExecuteTime": {
     "end_time": "2020-10-09T20:47:13.340285Z",
     "start_time": "2020-10-09T20:47:12.791724Z"
    }
   },
   "outputs": [],
   "source": [
    "year_17 = pd.read_html(year_2017.content)\n",
    "\n",
    "year_18 = pd.read_html(year_2018.content)\n",
    "\n",
    "year_19 = pd.read_html(year_2019.content)\n",
    "\n",
    "year_20 = pd.read_html(year_2020.content)"
   ]
  },
  {
   "cell_type": "markdown",
   "metadata": {},
   "source": [
    " "
   ]
  },
  {
   "cell_type": "markdown",
   "metadata": {},
   "source": [
    " "
   ]
  },
  {
   "cell_type": "markdown",
   "metadata": {},
   "source": [
    "# Extrair nomes dos mapas e adicionar aos respectivos DataSet"
   ]
  },
  {
   "cell_type": "code",
   "execution_count": 33,
   "metadata": {
    "ExecuteTime": {
     "end_time": "2020-10-09T20:48:17.560684Z",
     "start_time": "2020-10-09T20:48:17.538743Z"
    }
   },
   "outputs": [],
   "source": [
    "maps = [x.text for x in soup_2017.find_all('div',attrs = {'class':\"g-grid\"})[0].find_all('div')]\n",
    "de_maps = [(f'de_{(each_map).lower()}') for each_map in maps]\n"
   ]
  },
  {
   "cell_type": "code",
   "execution_count": 34,
   "metadata": {
    "ExecuteTime": {
     "end_time": "2020-10-09T20:48:18.262278Z",
     "start_time": "2020-10-09T20:48:18.259286Z"
    }
   },
   "outputs": [],
   "source": [
    "#Exclusão de mapas sem informações\n",
    "del(de_maps[0],de_maps[1],de_maps[-2],de_maps[-3], de_maps[-1])"
   ]
  },
  {
   "cell_type": "markdown",
   "metadata": {},
   "source": [
    " "
   ]
  },
  {
   "cell_type": "markdown",
   "metadata": {},
   "source": [
    "## Retornando informações DataFrame com cada mapa."
   ]
  },
  {
   "cell_type": "code",
   "execution_count": 37,
   "metadata": {
    "ExecuteTime": {
     "end_time": "2020-10-09T20:48:28.724509Z",
     "start_time": "2020-10-09T20:48:28.720605Z"
    }
   },
   "outputs": [],
   "source": [
    "#Função onde retorna o dataframe de cada mapa jogado por ano\n",
    "\n",
    "def links_maps(ano,map_list):\n",
    "    links = []\n",
    "    \n",
    "    \n",
    "    for x in map_list:  \n",
    "        url = (f'https://www.hltv.org/stats/players?startDate=20{ano}-01-01&endDate=20{ano}-12-31&maps={x}&rankingFilter=Top20')\n",
    "        h2 = requests.get(url,headers = headers)\n",
    "        html = pd.read_html(h2.content)    \n",
    "        for y in html:\n",
    "            links.append(y)    \n",
    "\n",
    "    return links"
   ]
  },
  {
   "cell_type": "code",
   "execution_count": 38,
   "metadata": {
    "ExecuteTime": {
     "end_time": "2020-10-09T20:48:34.280012Z",
     "start_time": "2020-10-09T20:48:30.050161Z"
    },
    "scrolled": false
   },
   "outputs": [],
   "source": [
    "#chamando função e retornando partidas \n",
    "maps17 = links_maps(17,de_maps)"
   ]
  },
  {
   "cell_type": "code",
   "execution_count": 39,
   "metadata": {
    "ExecuteTime": {
     "end_time": "2020-10-09T20:48:37.592461Z",
     "start_time": "2020-10-09T20:48:34.282035Z"
    }
   },
   "outputs": [],
   "source": [
    "maps18 = links_maps(18,de_maps)"
   ]
  },
  {
   "cell_type": "code",
   "execution_count": 40,
   "metadata": {
    "ExecuteTime": {
     "end_time": "2020-10-09T20:48:41.584281Z",
     "start_time": "2020-10-09T20:48:37.593501Z"
    }
   },
   "outputs": [],
   "source": [
    "maps19 = links_maps(19,de_maps)"
   ]
  },
  {
   "cell_type": "code",
   "execution_count": 41,
   "metadata": {
    "ExecuteTime": {
     "end_time": "2020-10-09T20:48:44.914474Z",
     "start_time": "2020-10-09T20:48:41.585861Z"
    }
   },
   "outputs": [],
   "source": [
    "maps20 = links_maps(20,de_maps)"
   ]
  },
  {
   "cell_type": "markdown",
   "metadata": {},
   "source": [
    " "
   ]
  },
  {
   "cell_type": "markdown",
   "metadata": {},
   "source": [
    "##### Separando os dados por mapas"
   ]
  },
  {
   "cell_type": "code",
   "execution_count": 60,
   "metadata": {
    "ExecuteTime": {
     "end_time": "2020-10-09T20:54:56.262559Z",
     "start_time": "2020-10-09T20:54:56.248632Z"
    }
   },
   "outputs": [],
   "source": [
    "de_cache_17 = maps17[0]\n",
    "de_dust2_17 = maps17[1]\n",
    "de_mirage_17 = maps17[2]\n",
    "de_inferno_17 = maps17[3]\n",
    "de_nuke_17 = maps17[4]\n",
    "de_train_17 = maps17[5]\n",
    "de_overpass_17 = maps17[6]\n",
    "\n",
    "\n",
    "#Criando uma tabela com nomes dos mapas para fazer um append em um único DataFrame\n",
    "\n",
    "de_cache_17['map_name'] = 'de_cache'\n",
    "de_dust2_17['map_name'] = 'de_dust2'\n",
    "de_mirage_17['map_name'] = 'de_mirage'\n",
    "de_inferno_17['map_name'] = 'de_inferno'\n",
    "de_nuke_17['map_name'] = 'de_nuke'\n",
    "de_train_17['map_name'] = 'de_train'\n",
    "de_overpass_17['map_name'] = 'de_overpass'\n",
    "\n",
    "map_2017 = de_cache_17.append([de_dust2_17, de_mirage_17, de_inferno_17, de_nuke_17, de_train_17, de_overpass_17])"
   ]
  },
  {
   "cell_type": "code",
   "execution_count": 61,
   "metadata": {
    "ExecuteTime": {
     "end_time": "2020-10-09T20:54:56.553202Z",
     "start_time": "2020-10-09T20:54:56.535215Z"
    }
   },
   "outputs": [],
   "source": [
    "de_cache_18 = maps18[0]\n",
    "de_dust2_18 = maps18[1]\n",
    "de_mirage_18 = maps18[2]\n",
    "de_inferno_18 =maps18[3]\n",
    "de_nuke_18 = maps18[4]\n",
    "de_train_18 = maps18[5]\n",
    "de_overpass_18 = maps18[6]\n",
    "\n",
    "de_cache_18['map_name'] = 'de_cache'\n",
    "de_dust2_18['map_name'] = 'de_dust2'\n",
    "de_mirage_18['map_name'] = 'de_mirage'\n",
    "de_inferno_18['map_name'] = 'de_inferno'\n",
    "de_nuke_18['map_name'] = 'de_nuke'\n",
    "de_train_18['map_name'] = 'de_train'\n",
    "de_overpass_18['map_name'] = 'de_overpass'\n",
    "\n",
    "map_2018 = de_cache_18.append([de_dust2_18, de_mirage_18, de_inferno_18, de_nuke_18, de_train_18, de_overpass_18])"
   ]
  },
  {
   "cell_type": "code",
   "execution_count": 62,
   "metadata": {
    "ExecuteTime": {
     "end_time": "2020-10-09T20:54:57.549934Z",
     "start_time": "2020-10-09T20:54:57.536009Z"
    }
   },
   "outputs": [],
   "source": [
    "de_cache_19 = maps19[0]\n",
    "de_dust2_19 = maps19[1]\n",
    "de_mirage_19 = maps19[2]\n",
    "de_inferno_19 = maps19[3]\n",
    "de_nuke_19 = maps19[4]\n",
    "de_train_19 = maps19[5]\n",
    "de_overpass_19 = maps19[6]\n",
    "\n",
    "de_cache_19['map_name'] = 'de_cache'\n",
    "de_dust2_19['map_name'] = 'de_dust2'\n",
    "de_mirage_19['map_name'] = 'de_mirage'\n",
    "de_inferno_19['map_name'] = 'de_inferno'\n",
    "de_nuke_19['map_name'] = 'de_nuke'\n",
    "de_train_19['map_name'] = 'de_train'\n",
    "de_overpass_19['map_name'] = 'de_overpass'\n",
    "\n",
    "map_2019 = de_cache_19.append([de_dust2_19, de_mirage_19, de_inferno_19, de_nuke_19, de_train_19, de_overpass_19])"
   ]
  },
  {
   "cell_type": "code",
   "execution_count": 63,
   "metadata": {
    "ExecuteTime": {
     "end_time": "2020-10-09T20:54:58.512944Z",
     "start_time": "2020-10-09T20:54:58.499980Z"
    }
   },
   "outputs": [],
   "source": [
    "de_cache_20 = maps20[0]\n",
    "de_dust2_20 = maps20[1]\n",
    "de_mirage_20 = maps20[2]\n",
    "de_inferno_20 = maps20[3]\n",
    "de_nuke_20 = maps20[4]\n",
    "de_train_20 = maps20[5]\n",
    "de_overpass_20 = maps20[6]\n",
    "\n",
    "de_cache_20['map_name'] = 'de_cache'\n",
    "de_dust2_20['map_name'] = 'de_dust2'\n",
    "de_mirage_20['map_name'] = 'de_mirage'\n",
    "de_inferno_20['map_name'] = 'de_inferno'\n",
    "de_nuke_20['map_name'] = 'de_nuke'\n",
    "de_train_20['map_name'] = 'de_train'\n",
    "de_overpass_20['map_name'] = 'de_overpass'\n",
    "\n",
    "map_2020 = de_cache_20.append([de_dust2_20, de_mirage_20, de_inferno_20, de_nuke_20, de_train_20, de_overpass_20])"
   ]
  },
  {
   "cell_type": "markdown",
   "metadata": {},
   "source": [
    "---- "
   ]
  },
  {
   "cell_type": "code",
   "execution_count": 84,
   "metadata": {
    "ExecuteTime": {
     "end_time": "2020-10-09T21:53:13.915038Z",
     "start_time": "2020-10-09T21:53:13.912047Z"
    }
   },
   "outputs": [],
   "source": [
    "#Os Nomes dos DataFrame\n",
    "#['map_2017','map_2018','map_2019','map_2020']"
   ]
  },
  {
   "cell_type": "markdown",
   "metadata": {},
   "source": [
    " "
   ]
  },
  {
   "cell_type": "code",
   "execution_count": 69,
   "metadata": {
    "ExecuteTime": {
     "end_time": "2020-10-09T20:57:08.147899Z",
     "start_time": "2020-10-09T20:57:08.139951Z"
    }
   },
   "outputs": [],
   "source": [
    "#Retornando nomes dos times\n",
    "\n",
    "def team(ano,map_list):\n",
    "    teams = []    \n",
    "\n",
    "    for x in de_maps:   \n",
    "        url = f'https://www.hltv.org/stats/players?startDate=20{ano}-01-01&endDate=20{ano}-12-31&maps={x}&rankingFilter=Top20'\n",
    "        h2 = requests.get(url,headers = headers)\n",
    "        soup = BeautifulSoup(h2.content)\n",
    "        for y in range(1,len(soup.find_all('tr'))):\n",
    "            teams.append(soup.find_all('tr')[y].find_all('img')[1].get('title'))\n",
    "            \n",
    "    return teams"
   ]
  },
  {
   "cell_type": "code",
   "execution_count": 71,
   "metadata": {
    "ExecuteTime": {
     "end_time": "2020-10-09T20:58:45.667075Z",
     "start_time": "2020-10-09T20:58:42.389467Z"
    }
   },
   "outputs": [],
   "source": [
    "teams_17 = team(17,de_maps)"
   ]
  },
  {
   "cell_type": "code",
   "execution_count": 72,
   "metadata": {
    "ExecuteTime": {
     "end_time": "2020-10-09T21:27:05.464637Z",
     "start_time": "2020-10-09T21:27:00.512085Z"
    }
   },
   "outputs": [],
   "source": [
    "teams_18 = team(18,de_maps)"
   ]
  },
  {
   "cell_type": "code",
   "execution_count": 74,
   "metadata": {
    "ExecuteTime": {
     "end_time": "2020-10-09T21:27:37.173260Z",
     "start_time": "2020-10-09T21:27:26.192913Z"
    }
   },
   "outputs": [],
   "source": [
    "teams_19 = team(19,de_maps)"
   ]
  },
  {
   "cell_type": "code",
   "execution_count": 75,
   "metadata": {
    "ExecuteTime": {
     "end_time": "2020-10-09T21:27:50.509816Z",
     "start_time": "2020-10-09T21:27:46.621001Z"
    }
   },
   "outputs": [],
   "source": [
    "teams_20 = team(20,de_maps)"
   ]
  },
  {
   "cell_type": "markdown",
   "metadata": {
    "ExecuteTime": {
     "end_time": "2020-10-09T21:55:28.913234Z",
     "start_time": "2020-10-09T21:55:28.902260Z"
    }
   },
   "source": [
    "  "
   ]
  },
  {
   "cell_type": "code",
   "execution_count": null,
   "metadata": {
    "ExecuteTime": {
     "start_time": "2020-10-09T22:03:29.902Z"
    }
   },
   "outputs": [],
   "source": [
    "#completando os DataFrames com os nomes dos times\n",
    "\n",
    "map_2017['Teams'] = teams_17\n",
    "map_2018['Teams'] = teams_18\n",
    "map_2019['Teams'] = teams_19\n",
    "map_2020['Teams'] = teams_20"
   ]
  }
 ],
 "metadata": {
  "kernelspec": {
   "display_name": "Python 3",
   "language": "python",
   "name": "python3"
  },
  "language_info": {
   "codemirror_mode": {
    "name": "ipython",
    "version": 3
   },
   "file_extension": ".py",
   "mimetype": "text/x-python",
   "name": "python",
   "nbconvert_exporter": "python",
   "pygments_lexer": "ipython3",
   "version": "3.7.9"
  },
  "toc": {
   "base_numbering": 1,
   "nav_menu": {},
   "number_sections": true,
   "sideBar": true,
   "skip_h1_title": false,
   "title_cell": "Table of Contents",
   "title_sidebar": "Contents",
   "toc_cell": false,
   "toc_position": {},
   "toc_section_display": true,
   "toc_window_display": false
  },
  "varInspector": {
   "cols": {
    "lenName": 16,
    "lenType": 16,
    "lenVar": 40
   },
   "kernels_config": {
    "python": {
     "delete_cmd_postfix": "",
     "delete_cmd_prefix": "del ",
     "library": "var_list.py",
     "varRefreshCmd": "print(var_dic_list())"
    },
    "r": {
     "delete_cmd_postfix": ") ",
     "delete_cmd_prefix": "rm(",
     "library": "var_list.r",
     "varRefreshCmd": "cat(var_dic_list()) "
    }
   },
   "types_to_exclude": [
    "module",
    "function",
    "builtin_function_or_method",
    "instance",
    "_Feature"
   ],
   "window_display": false
  }
 },
 "nbformat": 4,
 "nbformat_minor": 4
}
