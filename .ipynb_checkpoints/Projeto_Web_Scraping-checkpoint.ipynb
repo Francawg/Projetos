{
 "cells": [
  {
   "cell_type": "markdown",
   "metadata": {
    "ExecuteTime": {
     "end_time": "2020-09-27T23:04:31.391950Z",
     "start_time": "2020-09-27T23:04:31.375993Z"
    }
   },
   "source": [
    "![Ironhack logo](https://i.imgur.com/1QgrNNw.png)"
   ]
  },
  {
   "cell_type": "markdown",
   "metadata": {},
   "source": [
    "# Projeto Web Scraping"
   ]
  },
  {
   "cell_type": "markdown",
   "metadata": {},
   "source": [
    "##### Nome: Wagner G França"
   ]
  },
  {
   "cell_type": "markdown",
   "metadata": {},
   "source": [
    " "
   ]
  },
  {
   "cell_type": "markdown",
   "metadata": {},
   "source": [
    " ## Os Dados serão extraídos da  \" _hlt.org_ \""
   ]
  },
  {
   "cell_type": "markdown",
   "metadata": {
    "ExecuteTime": {
     "end_time": "2020-09-27T23:06:01.208335Z",
     "start_time": "2020-09-27T23:06:01.193402Z"
    }
   },
   "source": [
    "![hltv1.png](https://encrypted-tbn0.gstatic.com/images?q=tbn%3AANd9GcQBnhiLqKkFdTC2OL-Kmx42rtoK0e65LJ-xcA&usqp=CAU)  "
   ]
  },
  {
   "cell_type": "markdown",
   "metadata": {},
   "source": [
    "## Devido a pandemia do COVID-19, não foram possiveis extrair dados de 6 meses atrás.\n"
   ]
  },
  {
   "cell_type": "markdown",
   "metadata": {},
   "source": [
    "## Importando Bibliotecas necessárias\n"
   ]
  },
  {
   "cell_type": "code",
   "execution_count": 13,
   "metadata": {
    "ExecuteTime": {
     "end_time": "2020-10-06T20:24:44.375021Z",
     "start_time": "2020-10-06T20:24:44.362047Z"
    }
   },
   "outputs": [],
   "source": [
    "import numpy as np\n",
    "import pandas as pd\n",
    "import requests\n",
    "from bs4 import BeautifulSoup\n",
    "import re\n",
    "import random"
   ]
  },
  {
   "cell_type": "markdown",
   "metadata": {},
   "source": [
    " "
   ]
  },
  {
   "cell_type": "markdown",
   "metadata": {
    "ExecuteTime": {
     "end_time": "2020-09-30T20:38:23.170921Z",
     "start_time": "2020-09-30T20:38:23.159950Z"
    }
   },
   "source": [
    "##### Urls para scraping\n"
   ]
  },
  {
   "cell_type": "markdown",
   "metadata": {
    "ExecuteTime": {
     "end_time": "2020-09-30T20:38:23.626187Z",
     "start_time": "2020-09-30T20:38:23.620204Z"
    }
   },
   "source": [
    "Será extraído todas as partidas ano a ano\n",
    "\n",
    "a ideia desse web scraping é trazer as estatiscas dos jogadores a cada ano e averiguar quais mapas eles se destacam"
   ]
  },
  {
   "cell_type": "markdown",
   "metadata": {},
   "source": [
    " "
   ]
  },
  {
   "cell_type": "code",
   "execution_count": 14,
   "metadata": {
    "ExecuteTime": {
     "end_time": "2020-10-06T20:24:46.235424Z",
     "start_time": "2020-10-06T20:24:46.230437Z"
    }
   },
   "outputs": [],
   "source": [
    "headers={'User-Agent': 'Mozilla/5.0 (Windows NT 10.0; Win64; x64) AppleWebKit/537.36 (KHTML, like Gecko) Chrome/76.0.3809.100 Safari/537.36'}\n",
    "\n",
    "y_17 = ('https://www.hltv.org/stats/players?startDate=2017-01-01&endDate=2017-12-31&maps=all&rankingFilter=Top20')\n",
    "\n",
    "y_18 = ('https://www.hltv.org/stats/players?startDate=2018-01-01&endDate=2018-12-31&maps=all&rankingFilter=Top20')\n",
    "\n",
    "y_19 = ('https://www.hltv.org/stats/players?startDate=2019-01-01&endDate=2019-12-31&maps=all&rankingFilter=Top20')\n",
    "\n",
    "y_20 = ('https://www.hltv.org/stats/players?startDate=2020-01-01&endDate=2020-12-31&maps=all&rankingFilter=Top20')"
   ]
  },
  {
   "cell_type": "code",
   "execution_count": 15,
   "metadata": {
    "ExecuteTime": {
     "end_time": "2020-10-06T20:24:59.416490Z",
     "start_time": "2020-10-06T20:24:46.658131Z"
    }
   },
   "outputs": [],
   "source": [
    "year_2017 = requests.get(y_17,headers = headers)\n",
    "\n",
    "year_2018 = requests.get(y_18,headers = headers)\n",
    "\n",
    "year_2019 = requests.get(y_19,headers = headers)\n",
    "\n",
    "year_2020 = requests.get(y_20,headers = headers)"
   ]
  },
  {
   "cell_type": "markdown",
   "metadata": {},
   "source": [
    " "
   ]
  },
  {
   "cell_type": "markdown",
   "metadata": {},
   "source": [
    "## Creating a soup"
   ]
  },
  {
   "cell_type": "code",
   "execution_count": 17,
   "metadata": {
    "ExecuteTime": {
     "end_time": "2020-10-06T20:25:11.110177Z",
     "start_time": "2020-10-06T20:25:10.773120Z"
    }
   },
   "outputs": [],
   "source": [
    "soup_2017 = BeautifulSoup(year_2017.content)\n",
    "\n",
    "soup_2018 = BeautifulSoup(year_2018.content)\n",
    "\n",
    "soup_2019 = BeautifulSoup(year_2019.content)\n",
    "\n",
    "soup_2020 = BeautifulSoup(year_2020.content)"
   ]
  },
  {
   "cell_type": "markdown",
   "metadata": {},
   "source": [
    " "
   ]
  },
  {
   "cell_type": "markdown",
   "metadata": {},
   "source": [
    "## Read a HTML"
   ]
  },
  {
   "cell_type": "code",
   "execution_count": 18,
   "metadata": {
    "ExecuteTime": {
     "end_time": "2020-10-06T20:25:13.187650Z",
     "start_time": "2020-10-06T20:25:13.074738Z"
    }
   },
   "outputs": [],
   "source": [
    "year_17 = pd.read_html(year_2017.content)\n",
    "\n",
    "year_18 = pd.read_html(year_2018.content)\n",
    "\n",
    "year_19 = pd.read_html(year_2019.content)\n",
    "\n",
    "year_20 = pd.read_html(year_2020.content)"
   ]
  },
  {
   "cell_type": "markdown",
   "metadata": {},
   "source": [
    " "
   ]
  },
  {
   "cell_type": "markdown",
   "metadata": {},
   "source": [
    " "
   ]
  },
  {
   "cell_type": "markdown",
   "metadata": {},
   "source": [
    "# Extrair nomes dos mapas e adicionar aos respectivos DataSet"
   ]
  },
  {
   "cell_type": "code",
   "execution_count": 171,
   "metadata": {
    "ExecuteTime": {
     "end_time": "2020-10-06T21:07:37.669475Z",
     "start_time": "2020-10-06T21:07:37.648545Z"
    }
   },
   "outputs": [],
   "source": [
    "maps = [x.text for x in soup_2017.find_all('div',attrs = {'class':\"g-grid\"})[0].find_all('div')]\n",
    "de_maps = [(f'de_{(each_map).lower()}') for each_map in maps]"
   ]
  },
  {
   "cell_type": "code",
   "execution_count": 172,
   "metadata": {
    "ExecuteTime": {
     "end_time": "2020-10-06T21:07:38.758324Z",
     "start_time": "2020-10-06T21:07:38.754344Z"
    }
   },
   "outputs": [],
   "source": [
    "#Exclusão de mapas sem informações\n",
    "\n",
    "del(de_maps[0],de_maps[1],de_maps[-2],de_maps[-3], de_maps[-1])"
   ]
  },
  {
   "cell_type": "code",
   "execution_count": 173,
   "metadata": {
    "ExecuteTime": {
     "end_time": "2020-10-06T21:07:39.778392Z",
     "start_time": "2020-10-06T21:07:39.774448Z"
    }
   },
   "outputs": [
    {
     "data": {
      "text/plain": [
       "['de_cache',\n",
       " 'de_dust2',\n",
       " 'de_mirage',\n",
       " 'de_inferno',\n",
       " 'de_nuke',\n",
       " 'de_train',\n",
       " 'de_overpass']"
      ]
     },
     "execution_count": 173,
     "metadata": {},
     "output_type": "execute_result"
    }
   ],
   "source": [
    "de_maps"
   ]
  },
  {
   "cell_type": "markdown",
   "metadata": {},
   "source": [
    " "
   ]
  },
  {
   "cell_type": "markdown",
   "metadata": {},
   "source": [
    "## Retornando informações de cada mapa jogado por ano"
   ]
  },
  {
   "cell_type": "code",
   "execution_count": 174,
   "metadata": {
    "ExecuteTime": {
     "end_time": "2020-10-06T21:07:58.243709Z",
     "start_time": "2020-10-06T21:07:42.979343Z"
    },
    "scrolled": true
   },
   "outputs": [],
   "source": [
    "links_17 = []\n",
    "links_18 = []\n",
    "links_19 = []\n",
    "links_20 = []\n",
    "\n",
    "\n",
    "for x in de_maps:  \n",
    "    y_17 = (f'https://www.hltv.org/stats/players?startDate=2017-01-01&endDate=2017-12-31&maps={x}&rankingFilter=Top20')\n",
    "    h2 = requests.get(y_17,headers = headers)\n",
    "    html3 = pd.read_html(h2.content)    \n",
    "    for y in html3:\n",
    "        links_17.append(y)\n",
    "        \n",
    "for x in de_maps:  \n",
    "    y_18 = (f'https://www.hltv.org/stats/players?startDate=2018-01-01&endDate=2018-12-31&maps={x}&rankingFilter=Top20')\n",
    "    h2 = requests.get(y_18,headers = headers)\n",
    "    html3 = pd.read_html(h2.content)    \n",
    "    for y in html3:\n",
    "        links_18.append(y)   \n",
    "        \n",
    "for x in de_maps:  \n",
    "    y_19 = (f'https://www.hltv.org/stats/players?startDate=2019-01-01&endDate=2019-12-31&maps={x}&rankingFilter=Top20')\n",
    "    h2 = requests.get(y_19,headers = headers)\n",
    "    html3 = pd.read_html(h2.content)    \n",
    "    for y in html3:\n",
    "        links_19.append(y)  \n",
    "        \n",
    "for x in de_maps:  \n",
    "    y_20 = (f'https://www.hltv.org/stats/players?startDate=2020-01-01&endDate=2020-12-31&maps={x}&rankingFilter=Top20')\n",
    "    h2 = requests.get(y_20,headers = headers)\n",
    "    html3 = pd.read_html(h2.content)    \n",
    "    for y in html3:\n",
    "        links_20.append(y)          "
   ]
  },
  {
   "cell_type": "code",
   "execution_count": 175,
   "metadata": {
    "ExecuteTime": {
     "end_time": "2020-10-06T21:07:58.251194Z",
     "start_time": "2020-10-06T21:07:58.245211Z"
    }
   },
   "outputs": [],
   "source": [
    "de_cache = links_17[0]\n",
    "de_dust2 = links_17[1]\n",
    "de_mirage = links_17[2]\n",
    "de_inferno = links_17[3]\n",
    "de_nuke = links_17[4]\n",
    "de_train = links_17[5]\n",
    "de_overpass = links_17[6]"
   ]
  },
  {
   "cell_type": "code",
   "execution_count": 176,
   "metadata": {
    "ExecuteTime": {
     "end_time": "2020-10-06T21:08:02.639904Z",
     "start_time": "2020-10-06T21:08:02.631945Z"
    }
   },
   "outputs": [],
   "source": [
    "de_cache['map_name'] = 'de_cache'\n",
    "de_dust2['map_name'] = 'de_dust2'\n",
    "de_inferno['map_name'] = 'de_inferno'\n",
    "de_nuke['map_name'] = 'de_nuke'\n",
    "de_train['map_name'] = 'de_train'\n",
    "de_overpass['map_name'] = 'de_overpass'\n"
   ]
  },
  {
   "cell_type": "code",
   "execution_count": 177,
   "metadata": {
    "ExecuteTime": {
     "end_time": "2020-10-06T21:08:03.612678Z",
     "start_time": "2020-10-06T21:08:03.602658Z"
    }
   },
   "outputs": [],
   "source": [
    "map_2017 = de_cache.append([de_dust2, de_mirage, de_inferno, de_nuke, de_train, de_overpass])"
   ]
  },
  {
   "cell_type": "code",
   "execution_count": 178,
   "metadata": {
    "ExecuteTime": {
     "end_time": "2020-10-06T21:08:07.387566Z",
     "start_time": "2020-10-06T21:08:07.370612Z"
    }
   },
   "outputs": [
    {
     "data": {
      "text/html": [
       "<div>\n",
       "<style scoped>\n",
       "    .dataframe tbody tr th:only-of-type {\n",
       "        vertical-align: middle;\n",
       "    }\n",
       "\n",
       "    .dataframe tbody tr th {\n",
       "        vertical-align: top;\n",
       "    }\n",
       "\n",
       "    .dataframe thead th {\n",
       "        text-align: right;\n",
       "    }\n",
       "</style>\n",
       "<table border=\"1\" class=\"dataframe\">\n",
       "  <thead>\n",
       "    <tr style=\"text-align: right;\">\n",
       "      <th></th>\n",
       "      <th>Player</th>\n",
       "      <th>Teams</th>\n",
       "      <th>Maps</th>\n",
       "      <th>K-D Diff</th>\n",
       "      <th>K/D</th>\n",
       "      <th>Rating2.0</th>\n",
       "      <th>map_name</th>\n",
       "    </tr>\n",
       "  </thead>\n",
       "  <tbody>\n",
       "    <tr>\n",
       "      <th>0</th>\n",
       "      <td>fer</td>\n",
       "      <td>NaN</td>\n",
       "      <td>27</td>\n",
       "      <td>138</td>\n",
       "      <td>1.30</td>\n",
       "      <td>1.30</td>\n",
       "      <td>de_cache</td>\n",
       "    </tr>\n",
       "    <tr>\n",
       "      <th>1</th>\n",
       "      <td>NiKo</td>\n",
       "      <td>NaN</td>\n",
       "      <td>29</td>\n",
       "      <td>155</td>\n",
       "      <td>1.30</td>\n",
       "      <td>1.29</td>\n",
       "      <td>de_cache</td>\n",
       "    </tr>\n",
       "    <tr>\n",
       "      <th>2</th>\n",
       "      <td>coldzera</td>\n",
       "      <td>NaN</td>\n",
       "      <td>27</td>\n",
       "      <td>167</td>\n",
       "      <td>1.41</td>\n",
       "      <td>1.24</td>\n",
       "      <td>de_cache</td>\n",
       "    </tr>\n",
       "    <tr>\n",
       "      <th>3</th>\n",
       "      <td>boltz</td>\n",
       "      <td>NaN</td>\n",
       "      <td>23</td>\n",
       "      <td>77</td>\n",
       "      <td>1.21</td>\n",
       "      <td>1.23</td>\n",
       "      <td>de_cache</td>\n",
       "    </tr>\n",
       "    <tr>\n",
       "      <th>4</th>\n",
       "      <td>GeT_RiGhT</td>\n",
       "      <td>NaN</td>\n",
       "      <td>34</td>\n",
       "      <td>108</td>\n",
       "      <td>1.19</td>\n",
       "      <td>1.18</td>\n",
       "      <td>de_cache</td>\n",
       "    </tr>\n",
       "    <tr>\n",
       "      <th>...</th>\n",
       "      <td>...</td>\n",
       "      <td>...</td>\n",
       "      <td>...</td>\n",
       "      <td>...</td>\n",
       "      <td>...</td>\n",
       "      <td>...</td>\n",
       "      <td>...</td>\n",
       "    </tr>\n",
       "    <tr>\n",
       "      <th>27</th>\n",
       "      <td>Xizt</td>\n",
       "      <td>NaN</td>\n",
       "      <td>23</td>\n",
       "      <td>-42</td>\n",
       "      <td>0.91</td>\n",
       "      <td>1.01</td>\n",
       "      <td>de_overpass</td>\n",
       "    </tr>\n",
       "    <tr>\n",
       "      <th>28</th>\n",
       "      <td>MODDII</td>\n",
       "      <td>NaN</td>\n",
       "      <td>32</td>\n",
       "      <td>-34</td>\n",
       "      <td>0.94</td>\n",
       "      <td>1.01</td>\n",
       "      <td>de_overpass</td>\n",
       "    </tr>\n",
       "    <tr>\n",
       "      <th>29</th>\n",
       "      <td>Edward</td>\n",
       "      <td>NaN</td>\n",
       "      <td>30</td>\n",
       "      <td>-25</td>\n",
       "      <td>0.96</td>\n",
       "      <td>1.00</td>\n",
       "      <td>de_overpass</td>\n",
       "    </tr>\n",
       "    <tr>\n",
       "      <th>30</th>\n",
       "      <td>allu</td>\n",
       "      <td>NaN</td>\n",
       "      <td>28</td>\n",
       "      <td>-10</td>\n",
       "      <td>0.98</td>\n",
       "      <td>0.99</td>\n",
       "      <td>de_overpass</td>\n",
       "    </tr>\n",
       "    <tr>\n",
       "      <th>31</th>\n",
       "      <td>Zeus</td>\n",
       "      <td>NaN</td>\n",
       "      <td>24</td>\n",
       "      <td>-41</td>\n",
       "      <td>0.91</td>\n",
       "      <td>0.97</td>\n",
       "      <td>de_overpass</td>\n",
       "    </tr>\n",
       "  </tbody>\n",
       "</table>\n",
       "<p>280 rows × 7 columns</p>\n",
       "</div>"
      ],
      "text/plain": [
       "       Player  Teams  Maps  K-D Diff   K/D  Rating2.0     map_name\n",
       "0         fer    NaN    27       138  1.30       1.30     de_cache\n",
       "1        NiKo    NaN    29       155  1.30       1.29     de_cache\n",
       "2    coldzera    NaN    27       167  1.41       1.24     de_cache\n",
       "3       boltz    NaN    23        77  1.21       1.23     de_cache\n",
       "4   GeT_RiGhT    NaN    34       108  1.19       1.18     de_cache\n",
       "..        ...    ...   ...       ...   ...        ...          ...\n",
       "27       Xizt    NaN    23       -42  0.91       1.01  de_overpass\n",
       "28     MODDII    NaN    32       -34  0.94       1.01  de_overpass\n",
       "29     Edward    NaN    30       -25  0.96       1.00  de_overpass\n",
       "30       allu    NaN    28       -10  0.98       0.99  de_overpass\n",
       "31       Zeus    NaN    24       -41  0.91       0.97  de_overpass\n",
       "\n",
       "[280 rows x 7 columns]"
      ]
     },
     "execution_count": 178,
     "metadata": {},
     "output_type": "execute_result"
    }
   ],
   "source": [
    "map_2017"
   ]
  },
  {
   "cell_type": "code",
   "execution_count": 190,
   "metadata": {
    "ExecuteTime": {
     "end_time": "2020-10-06T21:11:40.420354Z",
     "start_time": "2020-10-06T21:11:36.574731Z"
    },
    "scrolled": false
   },
   "outputs": [],
   "source": [
    "teams = []    \n",
    "\n",
    "for x in de_maps:   \n",
    "    url = f'https://www.hltv.org/stats/players?startDate=2017-01-01&endDate=2017-12-31&maps={x}&rankingFilter=Top20'\n",
    "    h2 = requests.get(url,headers = headers)\n",
    "    soup2 = BeautifulSoup(h2.content)\n",
    "    for y in range(1,len(soup2.find_all('tr'))):\n",
    "        teams.append(soup2.find_all('tr')[y].find_all('img')[1].get('title'))\n",
    "        \n",
    "        \n",
    "    \n",
    "\n"
   ]
  },
  {
   "cell_type": "code",
   "execution_count": 191,
   "metadata": {
    "ExecuteTime": {
     "end_time": "2020-10-06T21:11:42.409033Z",
     "start_time": "2020-10-06T21:11:42.404083Z"
    }
   },
   "outputs": [],
   "source": [
    "map_2017['Teams'] = teams"
   ]
  },
  {
   "cell_type": "code",
   "execution_count": 192,
   "metadata": {
    "ExecuteTime": {
     "end_time": "2020-10-06T21:11:44.281888Z",
     "start_time": "2020-10-06T21:11:44.257943Z"
    }
   },
   "outputs": [
    {
     "data": {
      "text/html": [
       "<div>\n",
       "<style scoped>\n",
       "    .dataframe tbody tr th:only-of-type {\n",
       "        vertical-align: middle;\n",
       "    }\n",
       "\n",
       "    .dataframe tbody tr th {\n",
       "        vertical-align: top;\n",
       "    }\n",
       "\n",
       "    .dataframe thead th {\n",
       "        text-align: right;\n",
       "    }\n",
       "</style>\n",
       "<table border=\"1\" class=\"dataframe\">\n",
       "  <thead>\n",
       "    <tr style=\"text-align: right;\">\n",
       "      <th></th>\n",
       "      <th>Player</th>\n",
       "      <th>Teams</th>\n",
       "      <th>Maps</th>\n",
       "      <th>K-D Diff</th>\n",
       "      <th>K/D</th>\n",
       "      <th>Rating2.0</th>\n",
       "      <th>map_name</th>\n",
       "    </tr>\n",
       "  </thead>\n",
       "  <tbody>\n",
       "    <tr>\n",
       "      <th>0</th>\n",
       "      <td>fer</td>\n",
       "      <td>SK</td>\n",
       "      <td>27</td>\n",
       "      <td>138</td>\n",
       "      <td>1.30</td>\n",
       "      <td>1.30</td>\n",
       "      <td>de_cache</td>\n",
       "    </tr>\n",
       "    <tr>\n",
       "      <th>1</th>\n",
       "      <td>NiKo</td>\n",
       "      <td>FaZe</td>\n",
       "      <td>29</td>\n",
       "      <td>155</td>\n",
       "      <td>1.30</td>\n",
       "      <td>1.29</td>\n",
       "      <td>de_cache</td>\n",
       "    </tr>\n",
       "    <tr>\n",
       "      <th>2</th>\n",
       "      <td>coldzera</td>\n",
       "      <td>SK</td>\n",
       "      <td>27</td>\n",
       "      <td>167</td>\n",
       "      <td>1.41</td>\n",
       "      <td>1.24</td>\n",
       "      <td>de_cache</td>\n",
       "    </tr>\n",
       "    <tr>\n",
       "      <th>3</th>\n",
       "      <td>boltz</td>\n",
       "      <td>Immortals</td>\n",
       "      <td>23</td>\n",
       "      <td>77</td>\n",
       "      <td>1.21</td>\n",
       "      <td>1.23</td>\n",
       "      <td>de_cache</td>\n",
       "    </tr>\n",
       "    <tr>\n",
       "      <th>4</th>\n",
       "      <td>GeT_RiGhT</td>\n",
       "      <td>NiP</td>\n",
       "      <td>34</td>\n",
       "      <td>108</td>\n",
       "      <td>1.19</td>\n",
       "      <td>1.18</td>\n",
       "      <td>de_cache</td>\n",
       "    </tr>\n",
       "    <tr>\n",
       "      <th>...</th>\n",
       "      <td>...</td>\n",
       "      <td>...</td>\n",
       "      <td>...</td>\n",
       "      <td>...</td>\n",
       "      <td>...</td>\n",
       "      <td>...</td>\n",
       "      <td>...</td>\n",
       "    </tr>\n",
       "    <tr>\n",
       "      <th>27</th>\n",
       "      <td>Xizt</td>\n",
       "      <td>NiP</td>\n",
       "      <td>23</td>\n",
       "      <td>-42</td>\n",
       "      <td>0.91</td>\n",
       "      <td>1.01</td>\n",
       "      <td>de_overpass</td>\n",
       "    </tr>\n",
       "    <tr>\n",
       "      <th>28</th>\n",
       "      <td>MODDII</td>\n",
       "      <td>Heroic</td>\n",
       "      <td>32</td>\n",
       "      <td>-34</td>\n",
       "      <td>0.94</td>\n",
       "      <td>1.01</td>\n",
       "      <td>de_overpass</td>\n",
       "    </tr>\n",
       "    <tr>\n",
       "      <th>29</th>\n",
       "      <td>Edward</td>\n",
       "      <td>Natus Vincere</td>\n",
       "      <td>30</td>\n",
       "      <td>-25</td>\n",
       "      <td>0.96</td>\n",
       "      <td>1.00</td>\n",
       "      <td>de_overpass</td>\n",
       "    </tr>\n",
       "    <tr>\n",
       "      <th>30</th>\n",
       "      <td>allu</td>\n",
       "      <td>FaZe</td>\n",
       "      <td>28</td>\n",
       "      <td>-10</td>\n",
       "      <td>0.98</td>\n",
       "      <td>0.99</td>\n",
       "      <td>de_overpass</td>\n",
       "    </tr>\n",
       "    <tr>\n",
       "      <th>31</th>\n",
       "      <td>Zeus</td>\n",
       "      <td>Natus Vincere</td>\n",
       "      <td>24</td>\n",
       "      <td>-41</td>\n",
       "      <td>0.91</td>\n",
       "      <td>0.97</td>\n",
       "      <td>de_overpass</td>\n",
       "    </tr>\n",
       "  </tbody>\n",
       "</table>\n",
       "<p>280 rows × 7 columns</p>\n",
       "</div>"
      ],
      "text/plain": [
       "       Player          Teams  Maps  K-D Diff   K/D  Rating2.0     map_name\n",
       "0         fer             SK    27       138  1.30       1.30     de_cache\n",
       "1        NiKo           FaZe    29       155  1.30       1.29     de_cache\n",
       "2    coldzera             SK    27       167  1.41       1.24     de_cache\n",
       "3       boltz      Immortals    23        77  1.21       1.23     de_cache\n",
       "4   GeT_RiGhT            NiP    34       108  1.19       1.18     de_cache\n",
       "..        ...            ...   ...       ...   ...        ...          ...\n",
       "27       Xizt            NiP    23       -42  0.91       1.01  de_overpass\n",
       "28     MODDII         Heroic    32       -34  0.94       1.01  de_overpass\n",
       "29     Edward  Natus Vincere    30       -25  0.96       1.00  de_overpass\n",
       "30       allu           FaZe    28       -10  0.98       0.99  de_overpass\n",
       "31       Zeus  Natus Vincere    24       -41  0.91       0.97  de_overpass\n",
       "\n",
       "[280 rows x 7 columns]"
      ]
     },
     "execution_count": 192,
     "metadata": {},
     "output_type": "execute_result"
    }
   ],
   "source": [
    "map_2017"
   ]
  },
  {
   "cell_type": "code",
   "execution_count": 29,
   "metadata": {
    "ExecuteTime": {
     "end_time": "2020-10-06T20:27:37.250431Z",
     "start_time": "2020-10-06T20:27:37.245485Z"
    }
   },
   "outputs": [],
   "source": []
  }
 ],
 "metadata": {
  "kernelspec": {
   "display_name": "Python 3",
   "language": "python",
   "name": "python3"
  },
  "language_info": {
   "codemirror_mode": {
    "name": "ipython",
    "version": 3
   },
   "file_extension": ".py",
   "mimetype": "text/x-python",
   "name": "python",
   "nbconvert_exporter": "python",
   "pygments_lexer": "ipython3",
   "version": "3.7.9"
  },
  "toc": {
   "base_numbering": 1,
   "nav_menu": {},
   "number_sections": true,
   "sideBar": true,
   "skip_h1_title": false,
   "title_cell": "Table of Contents",
   "title_sidebar": "Contents",
   "toc_cell": false,
   "toc_position": {},
   "toc_section_display": true,
   "toc_window_display": false
  },
  "varInspector": {
   "cols": {
    "lenName": 16,
    "lenType": 16,
    "lenVar": 40
   },
   "kernels_config": {
    "python": {
     "delete_cmd_postfix": "",
     "delete_cmd_prefix": "del ",
     "library": "var_list.py",
     "varRefreshCmd": "print(var_dic_list())"
    },
    "r": {
     "delete_cmd_postfix": ") ",
     "delete_cmd_prefix": "rm(",
     "library": "var_list.r",
     "varRefreshCmd": "cat(var_dic_list()) "
    }
   },
   "types_to_exclude": [
    "module",
    "function",
    "builtin_function_or_method",
    "instance",
    "_Feature"
   ],
   "window_display": false
  }
 },
 "nbformat": 4,
 "nbformat_minor": 4
}
