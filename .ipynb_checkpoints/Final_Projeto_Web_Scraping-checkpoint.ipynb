{
 "cells": [
  {
   "cell_type": "markdown",
   "metadata": {
    "ExecuteTime": {
     "end_time": "2020-09-27T23:04:31.391950Z",
     "start_time": "2020-09-27T23:04:31.375993Z"
    }
   },
   "source": [
    "![Ironhack logo](https://i.imgur.com/1QgrNNw.png)"
   ]
  },
  {
   "cell_type": "markdown",
   "metadata": {},
   "source": [
    "# Projeto Web Scraping"
   ]
  },
  {
   "cell_type": "markdown",
   "metadata": {},
   "source": [
    "##### Nome: Wagner G França"
   ]
  },
  {
   "cell_type": "markdown",
   "metadata": {},
   "source": [
    " "
   ]
  },
  {
   "cell_type": "markdown",
   "metadata": {},
   "source": [
    " ## Os Dados serão extraídos da  \" _hlt.org_ \""
   ]
  },
  {
   "cell_type": "markdown",
   "metadata": {
    "ExecuteTime": {
     "end_time": "2020-09-27T23:06:01.208335Z",
     "start_time": "2020-09-27T23:06:01.193402Z"
    }
   },
   "source": [
    "![hltv1.png](https://encrypted-tbn0.gstatic.com/images?q=tbn%3AANd9GcQBnhiLqKkFdTC2OL-Kmx42rtoK0e65LJ-xcA&usqp=CAU)  "
   ]
  },
  {
   "cell_type": "markdown",
   "metadata": {},
   "source": [
    "## Devido a pandemia do COVID-19, não foram possiveis extrair dados de 6 meses atrás.\n"
   ]
  },
  {
   "cell_type": "markdown",
   "metadata": {},
   "source": [
    "## Importando Bibliotecas necessárias\n"
   ]
  },
  {
   "cell_type": "code",
   "execution_count": 1,
   "metadata": {
    "ExecuteTime": {
     "end_time": "2020-10-08T22:40:12.110492Z",
     "start_time": "2020-10-08T22:40:11.388980Z"
    }
   },
   "outputs": [],
   "source": [
    "import numpy as np\n",
    "import pandas as pd\n",
    "import requests\n",
    "from bs4 import BeautifulSoup\n",
    "import re\n",
    "import random"
   ]
  },
  {
   "cell_type": "markdown",
   "metadata": {},
   "source": [
    " "
   ]
  },
  {
   "cell_type": "markdown",
   "metadata": {
    "ExecuteTime": {
     "end_time": "2020-09-30T20:38:23.170921Z",
     "start_time": "2020-09-30T20:38:23.159950Z"
    }
   },
   "source": [
    "##### Urls para scraping\n"
   ]
  },
  {
   "cell_type": "markdown",
   "metadata": {
    "ExecuteTime": {
     "end_time": "2020-09-30T20:38:23.626187Z",
     "start_time": "2020-09-30T20:38:23.620204Z"
    }
   },
   "source": [
    "Será extraído todas as partidas ano a ano\n",
    "\n",
    "a ideia desse web scraping é trazer as estatiscas dos jogadores a cada ano e averiguar quais mapas eles se destacam"
   ]
  },
  {
   "cell_type": "markdown",
   "metadata": {},
   "source": [
    " "
   ]
  },
  {
   "cell_type": "code",
   "execution_count": 12,
   "metadata": {
    "ExecuteTime": {
     "end_time": "2020-10-08T22:43:31.661722Z",
     "start_time": "2020-10-08T22:43:31.659703Z"
    }
   },
   "outputs": [],
   "source": [
    "headers={'User-Agent': 'Mozilla/5.0 (Windows NT 10.0; Win64; x64) AppleWebKit/537.36 (KHTML, like Gecko) Chrome/76.0.3809.100 Safari/537.36'}\n",
    "\n",
    "y_17 = ('https://www.hltv.org/stats/players?startDate=2017-01-01&endDate=2017-12-31&maps=all&rankingFilter=Top20')\n",
    "\n",
    "y_18 = ('https://www.hltv.org/stats/players?startDate=2018-01-01&endDate=2018-12-31&maps=all&rankingFilter=Top20')\n",
    "\n",
    "y_19 = ('https://www.hltv.org/stats/players?startDate=2019-01-01&endDate=2019-12-31&maps=all&rankingFilter=Top20')\n",
    "\n",
    "y_20 = ('https://www.hltv.org/stats/players?startDate=2020-01-01&endDate=2020-12-31&maps=all&rankingFilter=Top20')"
   ]
  },
  {
   "cell_type": "code",
   "execution_count": 13,
   "metadata": {
    "ExecuteTime": {
     "end_time": "2020-10-08T22:43:33.889202Z",
     "start_time": "2020-10-08T22:43:32.627155Z"
    }
   },
   "outputs": [],
   "source": [
    "year_2017 = requests.get(y_17,headers = headers)\n",
    "\n",
    "year_2018 = requests.get(y_18,headers = headers)\n",
    "\n",
    "year_2019 = requests.get(y_19,headers = headers)\n",
    "\n",
    "year_2020 = requests.get(y_20,headers = headers)"
   ]
  },
  {
   "cell_type": "markdown",
   "metadata": {},
   "source": [
    " "
   ]
  },
  {
   "cell_type": "markdown",
   "metadata": {},
   "source": [
    "## Creating a soup"
   ]
  },
  {
   "cell_type": "code",
   "execution_count": 14,
   "metadata": {
    "ExecuteTime": {
     "end_time": "2020-10-08T22:43:36.169590Z",
     "start_time": "2020-10-08T22:43:35.987879Z"
    }
   },
   "outputs": [],
   "source": [
    "soup_2017 = BeautifulSoup(year_2017.content)\n",
    "\n",
    "soup_2018 = BeautifulSoup(year_2018.content)\n",
    "\n",
    "soup_2019 = BeautifulSoup(year_2019.content)\n",
    "\n",
    "soup_2020 = BeautifulSoup(year_2020.content)"
   ]
  },
  {
   "cell_type": "markdown",
   "metadata": {},
   "source": [
    " "
   ]
  },
  {
   "cell_type": "markdown",
   "metadata": {},
   "source": [
    "## Read a HTML"
   ]
  },
  {
   "cell_type": "code",
   "execution_count": 15,
   "metadata": {
    "ExecuteTime": {
     "end_time": "2020-10-08T22:43:39.199553Z",
     "start_time": "2020-10-08T22:43:39.104665Z"
    }
   },
   "outputs": [],
   "source": [
    "year_17 = pd.read_html(year_2017.content)\n",
    "\n",
    "year_18 = pd.read_html(year_2018.content)\n",
    "\n",
    "year_19 = pd.read_html(year_2019.content)\n",
    "\n",
    "year_20 = pd.read_html(year_2020.content)"
   ]
  },
  {
   "cell_type": "markdown",
   "metadata": {},
   "source": [
    " "
   ]
  },
  {
   "cell_type": "markdown",
   "metadata": {},
   "source": [
    " "
   ]
  },
  {
   "cell_type": "markdown",
   "metadata": {},
   "source": [
    "# Extrair nomes dos mapas e adicionar aos respectivos DataSet"
   ]
  },
  {
   "cell_type": "code",
   "execution_count": 6,
   "metadata": {
    "ExecuteTime": {
     "end_time": "2020-10-08T22:40:18.522707Z",
     "start_time": "2020-10-08T22:40:18.508744Z"
    }
   },
   "outputs": [],
   "source": [
    "maps = [x.text for x in soup_2017.find_all('div',attrs = {'class':\"g-grid\"})[0].find_all('div')]\n",
    "de_maps = [(f'de_{(each_map).lower()}') for each_map in maps]\n"
   ]
  },
  {
   "cell_type": "code",
   "execution_count": 7,
   "metadata": {
    "ExecuteTime": {
     "end_time": "2020-10-08T22:40:18.679313Z",
     "start_time": "2020-10-08T22:40:18.676324Z"
    }
   },
   "outputs": [],
   "source": [
    "#Exclusão de mapas sem informações\n",
    "\n",
    "del(de_maps[0],de_maps[1],de_maps[-2],de_maps[-3], de_maps[-1])"
   ]
  },
  {
   "cell_type": "code",
   "execution_count": 8,
   "metadata": {
    "ExecuteTime": {
     "end_time": "2020-10-08T22:40:18.840884Z",
     "start_time": "2020-10-08T22:40:18.832897Z"
    }
   },
   "outputs": [
    {
     "data": {
      "text/plain": [
       "['de_cache',\n",
       " 'de_dust2',\n",
       " 'de_mirage',\n",
       " 'de_inferno',\n",
       " 'de_nuke',\n",
       " 'de_train',\n",
       " 'de_overpass']"
      ]
     },
     "execution_count": 8,
     "metadata": {},
     "output_type": "execute_result"
    }
   ],
   "source": [
    "de_maps"
   ]
  },
  {
   "cell_type": "markdown",
   "metadata": {},
   "source": [
    " "
   ]
  },
  {
   "cell_type": "markdown",
   "metadata": {},
   "source": [
    "## Retornando informações DataFrame com cada mapa."
   ]
  },
  {
   "cell_type": "code",
   "execution_count": 25,
   "metadata": {
    "ExecuteTime": {
     "end_time": "2020-10-08T22:54:32.454157Z",
     "start_time": "2020-10-08T22:54:32.450196Z"
    }
   },
   "outputs": [],
   "source": [
    "#Função onde retorna o dataframe de cada mapa jogado por ano\n",
    "\n",
    "def links_maps(ano,map_list):\n",
    "    links = []\n",
    "    \n",
    "    \n",
    "    for x in map_list:  \n",
    "        url = (f'https://www.hltv.org/stats/players?startDate=20{ano}-01-01&endDate=20{ano}-12-31&maps={x}&rankingFilter=Top20')\n",
    "        h2 = requests.get(url,headers = headers)\n",
    "        html = pd.read_html(h2.content)    \n",
    "        for y in html:\n",
    "            links.append(y)    \n",
    "\n",
    "    return links"
   ]
  },
  {
   "cell_type": "code",
   "execution_count": 26,
   "metadata": {
    "ExecuteTime": {
     "end_time": "2020-10-08T22:54:56.313320Z",
     "start_time": "2020-10-08T22:54:34.669033Z"
    },
    "scrolled": false
   },
   "outputs": [],
   "source": [
    "#chamando função e retornando partidas \n",
    "maps17 = links_maps(17,de_maps)"
   ]
  },
  {
   "cell_type": "code",
   "execution_count": null,
   "metadata": {},
   "outputs": [],
   "source": [
    "maps18 = links_maps(18,de_maps)"
   ]
  },
  {
   "cell_type": "code",
   "execution_count": null,
   "metadata": {},
   "outputs": [],
   "source": [
    "maps19 = links_maps(19,de_maps)"
   ]
  },
  {
   "cell_type": "code",
   "execution_count": null,
   "metadata": {},
   "outputs": [],
   "source": [
    "maps20 = links_maps(20,de_maps)"
   ]
  },
  {
   "cell_type": "markdown",
   "metadata": {},
   "source": [
    " "
   ]
  },
  {
   "cell_type": "markdown",
   "metadata": {},
   "source": [
    "##### Separando os dados por mapas"
   ]
  },
  {
   "cell_type": "code",
   "execution_count": 41,
   "metadata": {
    "ExecuteTime": {
     "end_time": "2020-10-09T01:07:34.329641Z",
     "start_time": "2020-10-09T01:07:34.321690Z"
    }
   },
   "outputs": [],
   "source": [
    "de_cache_17 = maps17[0]\n",
    "de_dust2_17 = maps17[1]\n",
    "de_mirage_17 = maps17[2]\n",
    "de_inferno_17 = maps17[3]\n",
    "de_nuke_17 = maps17[4]\n",
    "de_train_17 = maps17[5]\n",
    "de_overpass_17 = maps17[6]\n",
    "\n",
    "\n",
    "#Criando uma tabela com nomes dos mapas para fazer um append em um único DataFrame\n",
    "\n",
    "de_cache_17['map_name'] = 'de_cache'\n",
    "de_dust2_17['map_name'] = 'de_dust2'\n",
    "de_mirage_17['map_name'] = 'de_mirage'\n",
    "de_inferno_17['map_name'] = 'de_inferno'\n",
    "de_nuke_17['map_name'] = 'de_nuke'\n",
    "de_train_17['map_name'] = 'de_train'\n",
    "de_overpass_17['map_name'] = 'de_overpass'\n",
    "\n",
    "map_2017 = de_cache_17.append([de_dust2_17, de_mirage_17, de_inferno_17, de_nuke_17, de_train_17, de_overpass_17])"
   ]
  },
  {
   "cell_type": "code",
   "execution_count": 43,
   "metadata": {
    "ExecuteTime": {
     "end_time": "2020-10-09T01:07:42.101400Z",
     "start_time": "2020-10-09T01:07:42.087437Z"
    }
   },
   "outputs": [
    {
     "data": {
      "text/html": [
       "<div>\n",
       "<style scoped>\n",
       "    .dataframe tbody tr th:only-of-type {\n",
       "        vertical-align: middle;\n",
       "    }\n",
       "\n",
       "    .dataframe tbody tr th {\n",
       "        vertical-align: top;\n",
       "    }\n",
       "\n",
       "    .dataframe thead th {\n",
       "        text-align: right;\n",
       "    }\n",
       "</style>\n",
       "<table border=\"1\" class=\"dataframe\">\n",
       "  <thead>\n",
       "    <tr style=\"text-align: right;\">\n",
       "      <th></th>\n",
       "      <th>Player</th>\n",
       "      <th>Teams</th>\n",
       "      <th>Maps</th>\n",
       "      <th>K-D Diff</th>\n",
       "      <th>K/D</th>\n",
       "      <th>Rating2.0</th>\n",
       "      <th>map_name</th>\n",
       "    </tr>\n",
       "  </thead>\n",
       "  <tbody>\n",
       "    <tr>\n",
       "      <th>0</th>\n",
       "      <td>fer</td>\n",
       "      <td>NaN</td>\n",
       "      <td>27</td>\n",
       "      <td>138</td>\n",
       "      <td>1.30</td>\n",
       "      <td>1.30</td>\n",
       "      <td>de_cache</td>\n",
       "    </tr>\n",
       "    <tr>\n",
       "      <th>1</th>\n",
       "      <td>NiKo</td>\n",
       "      <td>NaN</td>\n",
       "      <td>29</td>\n",
       "      <td>155</td>\n",
       "      <td>1.30</td>\n",
       "      <td>1.29</td>\n",
       "      <td>de_cache</td>\n",
       "    </tr>\n",
       "    <tr>\n",
       "      <th>2</th>\n",
       "      <td>coldzera</td>\n",
       "      <td>NaN</td>\n",
       "      <td>27</td>\n",
       "      <td>167</td>\n",
       "      <td>1.41</td>\n",
       "      <td>1.24</td>\n",
       "      <td>de_cache</td>\n",
       "    </tr>\n",
       "    <tr>\n",
       "      <th>3</th>\n",
       "      <td>boltz</td>\n",
       "      <td>NaN</td>\n",
       "      <td>23</td>\n",
       "      <td>77</td>\n",
       "      <td>1.21</td>\n",
       "      <td>1.23</td>\n",
       "      <td>de_cache</td>\n",
       "    </tr>\n",
       "    <tr>\n",
       "      <th>4</th>\n",
       "      <td>GeT_RiGhT</td>\n",
       "      <td>NaN</td>\n",
       "      <td>34</td>\n",
       "      <td>108</td>\n",
       "      <td>1.19</td>\n",
       "      <td>1.18</td>\n",
       "      <td>de_cache</td>\n",
       "    </tr>\n",
       "    <tr>\n",
       "      <th>...</th>\n",
       "      <td>...</td>\n",
       "      <td>...</td>\n",
       "      <td>...</td>\n",
       "      <td>...</td>\n",
       "      <td>...</td>\n",
       "      <td>...</td>\n",
       "      <td>...</td>\n",
       "    </tr>\n",
       "    <tr>\n",
       "      <th>27</th>\n",
       "      <td>Xizt</td>\n",
       "      <td>NaN</td>\n",
       "      <td>23</td>\n",
       "      <td>-42</td>\n",
       "      <td>0.91</td>\n",
       "      <td>1.01</td>\n",
       "      <td>de_overpass</td>\n",
       "    </tr>\n",
       "    <tr>\n",
       "      <th>28</th>\n",
       "      <td>MODDII</td>\n",
       "      <td>NaN</td>\n",
       "      <td>32</td>\n",
       "      <td>-34</td>\n",
       "      <td>0.94</td>\n",
       "      <td>1.01</td>\n",
       "      <td>de_overpass</td>\n",
       "    </tr>\n",
       "    <tr>\n",
       "      <th>29</th>\n",
       "      <td>Edward</td>\n",
       "      <td>NaN</td>\n",
       "      <td>30</td>\n",
       "      <td>-25</td>\n",
       "      <td>0.96</td>\n",
       "      <td>1.00</td>\n",
       "      <td>de_overpass</td>\n",
       "    </tr>\n",
       "    <tr>\n",
       "      <th>30</th>\n",
       "      <td>allu</td>\n",
       "      <td>NaN</td>\n",
       "      <td>28</td>\n",
       "      <td>-10</td>\n",
       "      <td>0.98</td>\n",
       "      <td>0.99</td>\n",
       "      <td>de_overpass</td>\n",
       "    </tr>\n",
       "    <tr>\n",
       "      <th>31</th>\n",
       "      <td>Zeus</td>\n",
       "      <td>NaN</td>\n",
       "      <td>24</td>\n",
       "      <td>-41</td>\n",
       "      <td>0.91</td>\n",
       "      <td>0.97</td>\n",
       "      <td>de_overpass</td>\n",
       "    </tr>\n",
       "  </tbody>\n",
       "</table>\n",
       "<p>280 rows × 7 columns</p>\n",
       "</div>"
      ],
      "text/plain": [
       "       Player  Teams  Maps  K-D Diff   K/D  Rating2.0     map_name\n",
       "0         fer    NaN    27       138  1.30       1.30     de_cache\n",
       "1        NiKo    NaN    29       155  1.30       1.29     de_cache\n",
       "2    coldzera    NaN    27       167  1.41       1.24     de_cache\n",
       "3       boltz    NaN    23        77  1.21       1.23     de_cache\n",
       "4   GeT_RiGhT    NaN    34       108  1.19       1.18     de_cache\n",
       "..        ...    ...   ...       ...   ...        ...          ...\n",
       "27       Xizt    NaN    23       -42  0.91       1.01  de_overpass\n",
       "28     MODDII    NaN    32       -34  0.94       1.01  de_overpass\n",
       "29     Edward    NaN    30       -25  0.96       1.00  de_overpass\n",
       "30       allu    NaN    28       -10  0.98       0.99  de_overpass\n",
       "31       Zeus    NaN    24       -41  0.91       0.97  de_overpass\n",
       "\n",
       "[280 rows x 7 columns]"
      ]
     },
     "execution_count": 43,
     "metadata": {},
     "output_type": "execute_result"
    }
   ],
   "source": [
    "de_cache_17 = maps17[0]\n",
    "de_dust2_17 = maps17[1]\n",
    "de_mirage_17 = maps17[2]\n",
    "de_inferno_17 = maps17[3]\n",
    "de_nuke_17 = maps17[4]\n",
    "de_train_17 = maps17[5]\n",
    "de_overpass_17 = maps17[6]\n",
    "\n",
    "\n",
    "#Criando uma tabela com nomes dos mapas para fazer um append em um único DataFrame\n",
    "\n",
    "de_cache_17['map_name'] = 'de_cache'\n",
    "de_dust2_17['map_name'] = 'de_dust2'\n",
    "de_mirage_17['map_name'] = 'de_mirage'\n",
    "de_inferno_17['map_name'] = 'de_inferno'\n",
    "de_nuke_17['map_name'] = 'de_nuke'\n",
    "de_train_17['map_name'] = 'de_train'\n",
    "de_overpass_17['map_name'] = 'de_overpass'\n",
    "\n",
    "map_2017 = de_cache_17.append([de_dust2_17, de_mirage_17, de_inferno_17, de_nuke_17, de_train_17, de_overpass_17])"
   ]
  },
  {
   "cell_type": "code",
   "execution_count": 34,
   "metadata": {
    "ExecuteTime": {
     "end_time": "2020-10-09T01:03:26.181714Z",
     "start_time": "2020-10-09T01:03:26.170705Z"
    }
   },
   "outputs": [
    {
     "data": {
      "text/html": [
       "<div>\n",
       "<style scoped>\n",
       "    .dataframe tbody tr th:only-of-type {\n",
       "        vertical-align: middle;\n",
       "    }\n",
       "\n",
       "    .dataframe tbody tr th {\n",
       "        vertical-align: top;\n",
       "    }\n",
       "\n",
       "    .dataframe thead th {\n",
       "        text-align: right;\n",
       "    }\n",
       "</style>\n",
       "<table border=\"1\" class=\"dataframe\">\n",
       "  <thead>\n",
       "    <tr style=\"text-align: right;\">\n",
       "      <th></th>\n",
       "      <th>Player</th>\n",
       "      <th>Teams</th>\n",
       "      <th>Maps</th>\n",
       "      <th>K-D Diff</th>\n",
       "      <th>K/D</th>\n",
       "      <th>Rating2.0</th>\n",
       "    </tr>\n",
       "  </thead>\n",
       "  <tbody>\n",
       "    <tr>\n",
       "      <th>0</th>\n",
       "      <td>fer</td>\n",
       "      <td>NaN</td>\n",
       "      <td>27</td>\n",
       "      <td>138</td>\n",
       "      <td>1.30</td>\n",
       "      <td>1.30</td>\n",
       "    </tr>\n",
       "    <tr>\n",
       "      <th>1</th>\n",
       "      <td>NiKo</td>\n",
       "      <td>NaN</td>\n",
       "      <td>29</td>\n",
       "      <td>155</td>\n",
       "      <td>1.30</td>\n",
       "      <td>1.29</td>\n",
       "    </tr>\n",
       "    <tr>\n",
       "      <th>2</th>\n",
       "      <td>coldzera</td>\n",
       "      <td>NaN</td>\n",
       "      <td>27</td>\n",
       "      <td>167</td>\n",
       "      <td>1.41</td>\n",
       "      <td>1.24</td>\n",
       "    </tr>\n",
       "    <tr>\n",
       "      <th>3</th>\n",
       "      <td>boltz</td>\n",
       "      <td>NaN</td>\n",
       "      <td>23</td>\n",
       "      <td>77</td>\n",
       "      <td>1.21</td>\n",
       "      <td>1.23</td>\n",
       "    </tr>\n",
       "    <tr>\n",
       "      <th>4</th>\n",
       "      <td>GeT_RiGhT</td>\n",
       "      <td>NaN</td>\n",
       "      <td>34</td>\n",
       "      <td>108</td>\n",
       "      <td>1.19</td>\n",
       "      <td>1.18</td>\n",
       "    </tr>\n",
       "    <tr>\n",
       "      <th>...</th>\n",
       "      <td>...</td>\n",
       "      <td>...</td>\n",
       "      <td>...</td>\n",
       "      <td>...</td>\n",
       "      <td>...</td>\n",
       "      <td>...</td>\n",
       "    </tr>\n",
       "    <tr>\n",
       "      <th>27</th>\n",
       "      <td>Xizt</td>\n",
       "      <td>NaN</td>\n",
       "      <td>23</td>\n",
       "      <td>-42</td>\n",
       "      <td>0.91</td>\n",
       "      <td>1.01</td>\n",
       "    </tr>\n",
       "    <tr>\n",
       "      <th>28</th>\n",
       "      <td>MODDII</td>\n",
       "      <td>NaN</td>\n",
       "      <td>32</td>\n",
       "      <td>-34</td>\n",
       "      <td>0.94</td>\n",
       "      <td>1.01</td>\n",
       "    </tr>\n",
       "    <tr>\n",
       "      <th>29</th>\n",
       "      <td>Edward</td>\n",
       "      <td>NaN</td>\n",
       "      <td>30</td>\n",
       "      <td>-25</td>\n",
       "      <td>0.96</td>\n",
       "      <td>1.00</td>\n",
       "    </tr>\n",
       "    <tr>\n",
       "      <th>30</th>\n",
       "      <td>allu</td>\n",
       "      <td>NaN</td>\n",
       "      <td>28</td>\n",
       "      <td>-10</td>\n",
       "      <td>0.98</td>\n",
       "      <td>0.99</td>\n",
       "    </tr>\n",
       "    <tr>\n",
       "      <th>31</th>\n",
       "      <td>Zeus</td>\n",
       "      <td>NaN</td>\n",
       "      <td>24</td>\n",
       "      <td>-41</td>\n",
       "      <td>0.91</td>\n",
       "      <td>0.97</td>\n",
       "    </tr>\n",
       "  </tbody>\n",
       "</table>\n",
       "<p>280 rows × 6 columns</p>\n",
       "</div>"
      ],
      "text/plain": [
       "       Player  Teams  Maps  K-D Diff   K/D  Rating2.0\n",
       "0         fer    NaN    27       138  1.30       1.30\n",
       "1        NiKo    NaN    29       155  1.30       1.29\n",
       "2    coldzera    NaN    27       167  1.41       1.24\n",
       "3       boltz    NaN    23        77  1.21       1.23\n",
       "4   GeT_RiGhT    NaN    34       108  1.19       1.18\n",
       "..        ...    ...   ...       ...   ...        ...\n",
       "27       Xizt    NaN    23       -42  0.91       1.01\n",
       "28     MODDII    NaN    32       -34  0.94       1.01\n",
       "29     Edward    NaN    30       -25  0.96       1.00\n",
       "30       allu    NaN    28       -10  0.98       0.99\n",
       "31       Zeus    NaN    24       -41  0.91       0.97\n",
       "\n",
       "[280 rows x 6 columns]"
      ]
     },
     "execution_count": 34,
     "metadata": {},
     "output_type": "execute_result"
    }
   ],
   "source": [
    "maps_17"
   ]
  },
  {
   "cell_type": "code",
   "execution_count": 49,
   "metadata": {
    "ExecuteTime": {
     "end_time": "2020-10-07T23:23:28.708876Z",
     "start_time": "2020-10-07T23:23:28.704913Z"
    }
   },
   "outputs": [],
   "source": [
    "de_cache_18 = links_18[0]\n",
    "de_dust2_18 = links_18[1]\n",
    "de_mirage_18 = links_18[2]\n",
    "de_inferno_18 = links_18[3]\n",
    "de_nuke_18 = links_18[4]\n",
    "de_train_18 = links_18[5]\n",
    "de_overpass_18 = links_18[6]"
   ]
  },
  {
   "cell_type": "code",
   "execution_count": null,
   "metadata": {},
   "outputs": [],
   "source": [
    "de_cache_19 = links_19[0]\n",
    "de_dust2_19 = links_19[1]\n",
    "de_mirage_19 = links_19[2]\n",
    "de_inferno_19 = links_19[3]\n",
    "de_nuke_19 = links_98[4]\n",
    "de_train_19 = links_19[5]\n",
    "de_overpass_19 = links_19[6]"
   ]
  },
  {
   "cell_type": "code",
   "execution_count": 30,
   "metadata": {
    "ExecuteTime": {
     "end_time": "2020-10-08T22:59:27.436745Z",
     "start_time": "2020-10-08T22:59:27.432756Z"
    }
   },
   "outputs": [],
   "source": [
    "de_cache_20 = maps20[0]\n",
    "de_dust2_20 = maps20[1]\n",
    "de_mirage_20 = maps20[2]\n",
    "de_inferno_20 = maps20[3]\n",
    "de_nuke_20 = maps20[4]\n",
    "de_train_20 = maps20[5]\n",
    "de_overpass_20 = maps20[6]"
   ]
  },
  {
   "cell_type": "markdown",
   "metadata": {},
   "source": [
    "---- "
   ]
  },
  {
   "cell_type": "code",
   "execution_count": 31,
   "metadata": {
    "ExecuteTime": {
     "end_time": "2020-10-08T22:59:35.195283Z",
     "start_time": "2020-10-08T22:59:35.181345Z"
    }
   },
   "outputs": [
    {
     "data": {
      "text/html": [
       "<div>\n",
       "<style scoped>\n",
       "    .dataframe tbody tr th:only-of-type {\n",
       "        vertical-align: middle;\n",
       "    }\n",
       "\n",
       "    .dataframe tbody tr th {\n",
       "        vertical-align: top;\n",
       "    }\n",
       "\n",
       "    .dataframe thead th {\n",
       "        text-align: right;\n",
       "    }\n",
       "</style>\n",
       "<table border=\"1\" class=\"dataframe\">\n",
       "  <thead>\n",
       "    <tr style=\"text-align: right;\">\n",
       "      <th></th>\n",
       "      <th>Player</th>\n",
       "      <th>Teams</th>\n",
       "      <th>Maps</th>\n",
       "      <th>K-D Diff</th>\n",
       "      <th>K/D</th>\n",
       "      <th>Rating2.0</th>\n",
       "    </tr>\n",
       "  </thead>\n",
       "  <tbody>\n",
       "    <tr>\n",
       "      <th>0</th>\n",
       "      <td>s1mple</td>\n",
       "      <td>NaN</td>\n",
       "      <td>12</td>\n",
       "      <td>89</td>\n",
       "      <td>1.52</td>\n",
       "      <td>1.34</td>\n",
       "    </tr>\n",
       "    <tr>\n",
       "      <th>1</th>\n",
       "      <td>electronic</td>\n",
       "      <td>NaN</td>\n",
       "      <td>12</td>\n",
       "      <td>62</td>\n",
       "      <td>1.35</td>\n",
       "      <td>1.29</td>\n",
       "    </tr>\n",
       "    <tr>\n",
       "      <th>2</th>\n",
       "      <td>Magisk</td>\n",
       "      <td>NaN</td>\n",
       "      <td>15</td>\n",
       "      <td>60</td>\n",
       "      <td>1.23</td>\n",
       "      <td>1.27</td>\n",
       "    </tr>\n",
       "    <tr>\n",
       "      <th>3</th>\n",
       "      <td>ZywOo</td>\n",
       "      <td>NaN</td>\n",
       "      <td>12</td>\n",
       "      <td>54</td>\n",
       "      <td>1.23</td>\n",
       "      <td>1.24</td>\n",
       "    </tr>\n",
       "    <tr>\n",
       "      <th>4</th>\n",
       "      <td>Brollan</td>\n",
       "      <td>NaN</td>\n",
       "      <td>13</td>\n",
       "      <td>61</td>\n",
       "      <td>1.26</td>\n",
       "      <td>1.23</td>\n",
       "    </tr>\n",
       "    <tr>\n",
       "      <th>5</th>\n",
       "      <td>device</td>\n",
       "      <td>NaN</td>\n",
       "      <td>15</td>\n",
       "      <td>90</td>\n",
       "      <td>1.37</td>\n",
       "      <td>1.22</td>\n",
       "    </tr>\n",
       "    <tr>\n",
       "      <th>6</th>\n",
       "      <td>dupreeh</td>\n",
       "      <td>NaN</td>\n",
       "      <td>15</td>\n",
       "      <td>50</td>\n",
       "      <td>1.19</td>\n",
       "      <td>1.21</td>\n",
       "    </tr>\n",
       "    <tr>\n",
       "      <th>7</th>\n",
       "      <td>REZ</td>\n",
       "      <td>NaN</td>\n",
       "      <td>20</td>\n",
       "      <td>33</td>\n",
       "      <td>1.09</td>\n",
       "      <td>1.20</td>\n",
       "    </tr>\n",
       "    <tr>\n",
       "      <th>8</th>\n",
       "      <td>twist</td>\n",
       "      <td>NaN</td>\n",
       "      <td>20</td>\n",
       "      <td>66</td>\n",
       "      <td>1.21</td>\n",
       "      <td>1.19</td>\n",
       "    </tr>\n",
       "    <tr>\n",
       "      <th>9</th>\n",
       "      <td>NiKo</td>\n",
       "      <td>NaN</td>\n",
       "      <td>11</td>\n",
       "      <td>35</td>\n",
       "      <td>1.19</td>\n",
       "      <td>1.15</td>\n",
       "    </tr>\n",
       "    <tr>\n",
       "      <th>10</th>\n",
       "      <td>Lekr0</td>\n",
       "      <td>NaN</td>\n",
       "      <td>11</td>\n",
       "      <td>17</td>\n",
       "      <td>1.10</td>\n",
       "      <td>1.14</td>\n",
       "    </tr>\n",
       "    <tr>\n",
       "      <th>11</th>\n",
       "      <td>Xyp9x</td>\n",
       "      <td>NaN</td>\n",
       "      <td>10</td>\n",
       "      <td>14</td>\n",
       "      <td>1.09</td>\n",
       "      <td>1.10</td>\n",
       "    </tr>\n",
       "    <tr>\n",
       "      <th>12</th>\n",
       "      <td>flusha</td>\n",
       "      <td>NaN</td>\n",
       "      <td>13</td>\n",
       "      <td>5</td>\n",
       "      <td>1.02</td>\n",
       "      <td>1.10</td>\n",
       "    </tr>\n",
       "    <tr>\n",
       "      <th>13</th>\n",
       "      <td>nawwk</td>\n",
       "      <td>NaN</td>\n",
       "      <td>20</td>\n",
       "      <td>30</td>\n",
       "      <td>1.09</td>\n",
       "      <td>1.09</td>\n",
       "    </tr>\n",
       "    <tr>\n",
       "      <th>14</th>\n",
       "      <td>shox</td>\n",
       "      <td>NaN</td>\n",
       "      <td>12</td>\n",
       "      <td>10</td>\n",
       "      <td>1.04</td>\n",
       "      <td>1.07</td>\n",
       "    </tr>\n",
       "    <tr>\n",
       "      <th>15</th>\n",
       "      <td>KRIMZ</td>\n",
       "      <td>NaN</td>\n",
       "      <td>13</td>\n",
       "      <td>3</td>\n",
       "      <td>1.01</td>\n",
       "      <td>1.07</td>\n",
       "    </tr>\n",
       "    <tr>\n",
       "      <th>16</th>\n",
       "      <td>Plopski</td>\n",
       "      <td>NaN</td>\n",
       "      <td>20</td>\n",
       "      <td>7</td>\n",
       "      <td>1.02</td>\n",
       "      <td>1.07</td>\n",
       "    </tr>\n",
       "    <tr>\n",
       "      <th>17</th>\n",
       "      <td>STYKO</td>\n",
       "      <td>NaN</td>\n",
       "      <td>10</td>\n",
       "      <td>-2</td>\n",
       "      <td>0.99</td>\n",
       "      <td>1.06</td>\n",
       "    </tr>\n",
       "    <tr>\n",
       "      <th>18</th>\n",
       "      <td>broky</td>\n",
       "      <td>NaN</td>\n",
       "      <td>11</td>\n",
       "      <td>21</td>\n",
       "      <td>1.12</td>\n",
       "      <td>1.05</td>\n",
       "    </tr>\n",
       "    <tr>\n",
       "      <th>19</th>\n",
       "      <td>Boombl4</td>\n",
       "      <td>NaN</td>\n",
       "      <td>12</td>\n",
       "      <td>-17</td>\n",
       "      <td>0.92</td>\n",
       "      <td>1.03</td>\n",
       "    </tr>\n",
       "    <tr>\n",
       "      <th>20</th>\n",
       "      <td>RpK</td>\n",
       "      <td>NaN</td>\n",
       "      <td>12</td>\n",
       "      <td>-4</td>\n",
       "      <td>0.98</td>\n",
       "      <td>1.03</td>\n",
       "    </tr>\n",
       "    <tr>\n",
       "      <th>21</th>\n",
       "      <td>Maden</td>\n",
       "      <td>NaN</td>\n",
       "      <td>10</td>\n",
       "      <td>-15</td>\n",
       "      <td>0.92</td>\n",
       "      <td>1.02</td>\n",
       "    </tr>\n",
       "    <tr>\n",
       "      <th>22</th>\n",
       "      <td>apEX</td>\n",
       "      <td>NaN</td>\n",
       "      <td>12</td>\n",
       "      <td>-10</td>\n",
       "      <td>0.96</td>\n",
       "      <td>1.02</td>\n",
       "    </tr>\n",
       "    <tr>\n",
       "      <th>23</th>\n",
       "      <td>cadiaN</td>\n",
       "      <td>NaN</td>\n",
       "      <td>10</td>\n",
       "      <td>5</td>\n",
       "      <td>1.03</td>\n",
       "      <td>1.02</td>\n",
       "    </tr>\n",
       "    <tr>\n",
       "      <th>24</th>\n",
       "      <td>b0RUP</td>\n",
       "      <td>NaN</td>\n",
       "      <td>10</td>\n",
       "      <td>6</td>\n",
       "      <td>1.03</td>\n",
       "      <td>1.01</td>\n",
       "    </tr>\n",
       "    <tr>\n",
       "      <th>25</th>\n",
       "      <td>Perfecto</td>\n",
       "      <td>NaN</td>\n",
       "      <td>12</td>\n",
       "      <td>-2</td>\n",
       "      <td>0.99</td>\n",
       "      <td>1.00</td>\n",
       "    </tr>\n",
       "    <tr>\n",
       "      <th>26</th>\n",
       "      <td>zehN</td>\n",
       "      <td>NaN</td>\n",
       "      <td>10</td>\n",
       "      <td>-13</td>\n",
       "      <td>0.93</td>\n",
       "      <td>0.99</td>\n",
       "    </tr>\n",
       "    <tr>\n",
       "      <th>27</th>\n",
       "      <td>coldzera</td>\n",
       "      <td>NaN</td>\n",
       "      <td>11</td>\n",
       "      <td>2</td>\n",
       "      <td>1.01</td>\n",
       "      <td>0.99</td>\n",
       "    </tr>\n",
       "    <tr>\n",
       "      <th>28</th>\n",
       "      <td>stavn</td>\n",
       "      <td>NaN</td>\n",
       "      <td>10</td>\n",
       "      <td>-20</td>\n",
       "      <td>0.90</td>\n",
       "      <td>0.98</td>\n",
       "    </tr>\n",
       "    <tr>\n",
       "      <th>29</th>\n",
       "      <td>gla1ve</td>\n",
       "      <td>NaN</td>\n",
       "      <td>13</td>\n",
       "      <td>-23</td>\n",
       "      <td>0.89</td>\n",
       "      <td>0.97</td>\n",
       "    </tr>\n",
       "    <tr>\n",
       "      <th>30</th>\n",
       "      <td>rain</td>\n",
       "      <td>NaN</td>\n",
       "      <td>11</td>\n",
       "      <td>-38</td>\n",
       "      <td>0.81</td>\n",
       "      <td>0.95</td>\n",
       "    </tr>\n",
       "    <tr>\n",
       "      <th>31</th>\n",
       "      <td>flamie</td>\n",
       "      <td>NaN</td>\n",
       "      <td>12</td>\n",
       "      <td>-24</td>\n",
       "      <td>0.88</td>\n",
       "      <td>0.95</td>\n",
       "    </tr>\n",
       "    <tr>\n",
       "      <th>32</th>\n",
       "      <td>misutaaa</td>\n",
       "      <td>NaN</td>\n",
       "      <td>11</td>\n",
       "      <td>-50</td>\n",
       "      <td>0.79</td>\n",
       "      <td>0.87</td>\n",
       "    </tr>\n",
       "    <tr>\n",
       "      <th>33</th>\n",
       "      <td>JW</td>\n",
       "      <td>NaN</td>\n",
       "      <td>13</td>\n",
       "      <td>-49</td>\n",
       "      <td>0.80</td>\n",
       "      <td>0.87</td>\n",
       "    </tr>\n",
       "    <tr>\n",
       "      <th>34</th>\n",
       "      <td>Golden</td>\n",
       "      <td>NaN</td>\n",
       "      <td>13</td>\n",
       "      <td>-77</td>\n",
       "      <td>0.70</td>\n",
       "      <td>0.82</td>\n",
       "    </tr>\n",
       "    <tr>\n",
       "      <th>35</th>\n",
       "      <td>kRYSTAL</td>\n",
       "      <td>NaN</td>\n",
       "      <td>10</td>\n",
       "      <td>-88</td>\n",
       "      <td>0.56</td>\n",
       "      <td>0.70</td>\n",
       "    </tr>\n",
       "  </tbody>\n",
       "</table>\n",
       "</div>"
      ],
      "text/plain": [
       "        Player  Teams  Maps  K-D Diff   K/D  Rating2.0\n",
       "0       s1mple    NaN    12        89  1.52       1.34\n",
       "1   electronic    NaN    12        62  1.35       1.29\n",
       "2       Magisk    NaN    15        60  1.23       1.27\n",
       "3        ZywOo    NaN    12        54  1.23       1.24\n",
       "4      Brollan    NaN    13        61  1.26       1.23\n",
       "5       device    NaN    15        90  1.37       1.22\n",
       "6      dupreeh    NaN    15        50  1.19       1.21\n",
       "7          REZ    NaN    20        33  1.09       1.20\n",
       "8        twist    NaN    20        66  1.21       1.19\n",
       "9         NiKo    NaN    11        35  1.19       1.15\n",
       "10       Lekr0    NaN    11        17  1.10       1.14\n",
       "11       Xyp9x    NaN    10        14  1.09       1.10\n",
       "12      flusha    NaN    13         5  1.02       1.10\n",
       "13       nawwk    NaN    20        30  1.09       1.09\n",
       "14        shox    NaN    12        10  1.04       1.07\n",
       "15       KRIMZ    NaN    13         3  1.01       1.07\n",
       "16     Plopski    NaN    20         7  1.02       1.07\n",
       "17       STYKO    NaN    10        -2  0.99       1.06\n",
       "18       broky    NaN    11        21  1.12       1.05\n",
       "19     Boombl4    NaN    12       -17  0.92       1.03\n",
       "20         RpK    NaN    12        -4  0.98       1.03\n",
       "21       Maden    NaN    10       -15  0.92       1.02\n",
       "22        apEX    NaN    12       -10  0.96       1.02\n",
       "23      cadiaN    NaN    10         5  1.03       1.02\n",
       "24       b0RUP    NaN    10         6  1.03       1.01\n",
       "25    Perfecto    NaN    12        -2  0.99       1.00\n",
       "26        zehN    NaN    10       -13  0.93       0.99\n",
       "27    coldzera    NaN    11         2  1.01       0.99\n",
       "28       stavn    NaN    10       -20  0.90       0.98\n",
       "29      gla1ve    NaN    13       -23  0.89       0.97\n",
       "30        rain    NaN    11       -38  0.81       0.95\n",
       "31      flamie    NaN    12       -24  0.88       0.95\n",
       "32    misutaaa    NaN    11       -50  0.79       0.87\n",
       "33          JW    NaN    13       -49  0.80       0.87\n",
       "34      Golden    NaN    13       -77  0.70       0.82\n",
       "35     kRYSTAL    NaN    10       -88  0.56       0.70"
      ]
     },
     "execution_count": 31,
     "metadata": {},
     "output_type": "execute_result"
    }
   ],
   "source": [
    "de_overpass_20"
   ]
  },
  {
   "cell_type": "code",
   "execution_count": 50,
   "metadata": {
    "ExecuteTime": {
     "end_time": "2020-10-07T23:23:42.303615Z",
     "start_time": "2020-10-07T23:23:42.298629Z"
    }
   },
   "outputs": [],
   "source": [
    "de_cache_18['map_name'] = 'de_cache'\n",
    "de_dust2_18['map_name'] = 'de_dust2'\n",
    "de_mirage_18['map_name'] = 'de_mirage'\n",
    "de_inferno_18['map_name'] = 'de_inferno'\n",
    "de_nuke_18['map_name'] = 'de_nuke'\n",
    "de_train_18['map_name'] = 'de_train'\n",
    "de_overpass_18['map_name'] = 'de_overpass'"
   ]
  },
  {
   "cell_type": "code",
   "execution_count": 13,
   "metadata": {
    "ExecuteTime": {
     "end_time": "2020-10-07T22:33:40.332380Z",
     "start_time": "2020-10-07T22:33:40.325426Z"
    }
   },
   "outputs": [],
   "source": [
    "map_2017 = de_cache.append([de_dust2, de_mirage, de_inferno, de_nuke, de_train, de_overpass])"
   ]
  },
  {
   "cell_type": "code",
   "execution_count": 52,
   "metadata": {
    "ExecuteTime": {
     "end_time": "2020-10-07T23:24:36.351242Z",
     "start_time": "2020-10-07T23:24:36.344289Z"
    }
   },
   "outputs": [],
   "source": [
    "map_2018 = de_cache_18.append([de_dust2_18, de_mirage_18, de_inferno_18, de_nuke_18, de_train_18, de_overpass_18])"
   ]
  },
  {
   "cell_type": "code",
   "execution_count": 53,
   "metadata": {
    "ExecuteTime": {
     "end_time": "2020-10-07T23:24:39.335311Z",
     "start_time": "2020-10-07T23:24:39.323346Z"
    }
   },
   "outputs": [
    {
     "data": {
      "text/html": [
       "<div>\n",
       "<style scoped>\n",
       "    .dataframe tbody tr th:only-of-type {\n",
       "        vertical-align: middle;\n",
       "    }\n",
       "\n",
       "    .dataframe tbody tr th {\n",
       "        vertical-align: top;\n",
       "    }\n",
       "\n",
       "    .dataframe thead th {\n",
       "        text-align: right;\n",
       "    }\n",
       "</style>\n",
       "<table border=\"1\" class=\"dataframe\">\n",
       "  <thead>\n",
       "    <tr style=\"text-align: right;\">\n",
       "      <th></th>\n",
       "      <th>Player</th>\n",
       "      <th>Teams</th>\n",
       "      <th>Maps</th>\n",
       "      <th>K-D Diff</th>\n",
       "      <th>K/D</th>\n",
       "      <th>Rating2.0</th>\n",
       "      <th>map_name</th>\n",
       "    </tr>\n",
       "  </thead>\n",
       "  <tbody>\n",
       "    <tr>\n",
       "      <th>0</th>\n",
       "      <td>NiKo</td>\n",
       "      <td>NaN</td>\n",
       "      <td>33</td>\n",
       "      <td>216</td>\n",
       "      <td>1.43</td>\n",
       "      <td>1.33</td>\n",
       "      <td>de_cache</td>\n",
       "    </tr>\n",
       "    <tr>\n",
       "      <th>1</th>\n",
       "      <td>Twistzz</td>\n",
       "      <td>NaN</td>\n",
       "      <td>22</td>\n",
       "      <td>139</td>\n",
       "      <td>1.41</td>\n",
       "      <td>1.29</td>\n",
       "      <td>de_cache</td>\n",
       "    </tr>\n",
       "    <tr>\n",
       "      <th>2</th>\n",
       "      <td>tabseN</td>\n",
       "      <td>NaN</td>\n",
       "      <td>15</td>\n",
       "      <td>52</td>\n",
       "      <td>1.19</td>\n",
       "      <td>1.28</td>\n",
       "      <td>de_cache</td>\n",
       "    </tr>\n",
       "    <tr>\n",
       "      <th>3</th>\n",
       "      <td>NAF</td>\n",
       "      <td>NaN</td>\n",
       "      <td>23</td>\n",
       "      <td>97</td>\n",
       "      <td>1.26</td>\n",
       "      <td>1.28</td>\n",
       "      <td>de_cache</td>\n",
       "    </tr>\n",
       "    <tr>\n",
       "      <th>4</th>\n",
       "      <td>ISSAA</td>\n",
       "      <td>NaN</td>\n",
       "      <td>15</td>\n",
       "      <td>75</td>\n",
       "      <td>1.32</td>\n",
       "      <td>1.19</td>\n",
       "      <td>de_cache</td>\n",
       "    </tr>\n",
       "    <tr>\n",
       "      <th>...</th>\n",
       "      <td>...</td>\n",
       "      <td>...</td>\n",
       "      <td>...</td>\n",
       "      <td>...</td>\n",
       "      <td>...</td>\n",
       "      <td>...</td>\n",
       "      <td>...</td>\n",
       "    </tr>\n",
       "    <tr>\n",
       "      <th>31</th>\n",
       "      <td>Zeus</td>\n",
       "      <td>NaN</td>\n",
       "      <td>43</td>\n",
       "      <td>-110</td>\n",
       "      <td>0.85</td>\n",
       "      <td>0.94</td>\n",
       "      <td>de_overpass</td>\n",
       "    </tr>\n",
       "    <tr>\n",
       "      <th>32</th>\n",
       "      <td>daps</td>\n",
       "      <td>NaN</td>\n",
       "      <td>30</td>\n",
       "      <td>-70</td>\n",
       "      <td>0.85</td>\n",
       "      <td>0.94</td>\n",
       "      <td>de_overpass</td>\n",
       "    </tr>\n",
       "    <tr>\n",
       "      <th>33</th>\n",
       "      <td>ANGE1</td>\n",
       "      <td>NaN</td>\n",
       "      <td>37</td>\n",
       "      <td>-132</td>\n",
       "      <td>0.82</td>\n",
       "      <td>0.93</td>\n",
       "      <td>de_overpass</td>\n",
       "    </tr>\n",
       "    <tr>\n",
       "      <th>34</th>\n",
       "      <td>DeadFox</td>\n",
       "      <td>NaN</td>\n",
       "      <td>36</td>\n",
       "      <td>-116</td>\n",
       "      <td>0.83</td>\n",
       "      <td>0.93</td>\n",
       "      <td>de_overpass</td>\n",
       "    </tr>\n",
       "    <tr>\n",
       "      <th>35</th>\n",
       "      <td>karrigan</td>\n",
       "      <td>NaN</td>\n",
       "      <td>35</td>\n",
       "      <td>-117</td>\n",
       "      <td>0.83</td>\n",
       "      <td>0.91</td>\n",
       "      <td>de_overpass</td>\n",
       "    </tr>\n",
       "  </tbody>\n",
       "</table>\n",
       "<p>256 rows × 7 columns</p>\n",
       "</div>"
      ],
      "text/plain": [
       "      Player  Teams  Maps  K-D Diff   K/D  Rating2.0     map_name\n",
       "0       NiKo    NaN    33       216  1.43       1.33     de_cache\n",
       "1    Twistzz    NaN    22       139  1.41       1.29     de_cache\n",
       "2     tabseN    NaN    15        52  1.19       1.28     de_cache\n",
       "3        NAF    NaN    23        97  1.26       1.28     de_cache\n",
       "4      ISSAA    NaN    15        75  1.32       1.19     de_cache\n",
       "..       ...    ...   ...       ...   ...        ...          ...\n",
       "31      Zeus    NaN    43      -110  0.85       0.94  de_overpass\n",
       "32      daps    NaN    30       -70  0.85       0.94  de_overpass\n",
       "33     ANGE1    NaN    37      -132  0.82       0.93  de_overpass\n",
       "34   DeadFox    NaN    36      -116  0.83       0.93  de_overpass\n",
       "35  karrigan    NaN    35      -117  0.83       0.91  de_overpass\n",
       "\n",
       "[256 rows x 7 columns]"
      ]
     },
     "execution_count": 53,
     "metadata": {},
     "output_type": "execute_result"
    }
   ],
   "source": [
    "map_2018"
   ]
  },
  {
   "cell_type": "code",
   "execution_count": 41,
   "metadata": {
    "ExecuteTime": {
     "end_time": "2020-10-07T23:12:21.160920Z",
     "start_time": "2020-10-07T23:12:21.157928Z"
    }
   },
   "outputs": [
    {
     "data": {
      "text/plain": [
       "256"
      ]
     },
     "execution_count": 41,
     "metadata": {},
     "output_type": "execute_result"
    }
   ],
   "source": [
    "len(teams_18)"
   ]
  },
  {
   "cell_type": "code",
   "execution_count": 46,
   "metadata": {
    "ExecuteTime": {
     "end_time": "2020-10-07T23:16:48.164626Z",
     "start_time": "2020-10-07T23:16:48.147698Z"
    },
    "scrolled": true
   },
   "outputs": [
    {
     "name": "stdout",
     "output_type": "stream",
     "text": [
      " O volume na unidade C nÆo tem nome.\n",
      " O N£mero de S‚rie do Volume ‚ C25D-B86B\n",
      "\n",
      " Pasta de C:\\Users\\User\\Aulas_ironhack\\Projects-master\\project\n",
      "\n",
      "07/10/2020  20:16    <DIR>          .\n",
      "07/10/2020  20:16    <DIR>          ..\n",
      "07/10/2020  02:32    <DIR>          .ipynb_checkpoints\n",
      "07/10/2020  20:16            36.307 Final_Projeto_Web_Scraping.ipynb\n",
      "07/10/2020  20:16             9.454 maps.csv\n",
      "               2 arquivo(s)         45.761 bytes\n",
      "               3 pasta(s)   37.893.603.328 bytes dispon¡veis\n"
     ]
    }
   ],
   "source": [
    "!dir"
   ]
  },
  {
   "cell_type": "code",
   "execution_count": 45,
   "metadata": {
    "ExecuteTime": {
     "end_time": "2020-10-07T23:16:16.921802Z",
     "start_time": "2020-10-07T23:16:16.914781Z"
    }
   },
   "outputs": [],
   "source": [
    "map_2018.to_csv('maps.csv')"
   ]
  },
  {
   "cell_type": "code",
   "execution_count": 37,
   "metadata": {
    "ExecuteTime": {
     "end_time": "2020-10-07T22:55:23.259673Z",
     "start_time": "2020-10-07T22:55:12.433863Z"
    }
   },
   "outputs": [],
   "source": [
    "teams_17 = []    \n",
    "\n",
    "for x in de_maps:   \n",
    "    url = f'https://www.hltv.org/stats/players?startDate=2017-01-01&endDate=2017-12-31&maps={x}&rankingFilter=Top20'\n",
    "    h2 = requests.get(url,headers = headers)\n",
    "    soup2 = BeautifulSoup(h2.content)\n",
    "    for y in range(1,len(soup2.find_all('tr'))):\n",
    "        teams_17.append(soup2.find_all('tr')[y].find_all('img')[1].get('title'))\n",
    "        "
   ]
  },
  {
   "cell_type": "code",
   "execution_count": 21,
   "metadata": {
    "ExecuteTime": {
     "end_time": "2020-10-07T22:35:55.361468Z",
     "start_time": "2020-10-07T22:35:51.990046Z"
    }
   },
   "outputs": [],
   "source": [
    "teams_18 = []    \n",
    "\n",
    "for x in de_maps:   \n",
    "    url = f'https://www.hltv.org/stats/players?startDate=2018-01-01&endDate=2018-12-31&maps={x}&rankingFilter=Top20'\n",
    "    \n",
    "    h2 = requests.get(url,headers = headers)\n",
    "    soup2 = BeautifulSoup(h2.content)\n",
    "    for y in range(1,len(soup2.find_all('tr'))):\n",
    "        teams_18.append(soup2.find_all('tr')[y].find_all('img')[1].get('title'))\n",
    "        "
   ]
  },
  {
   "cell_type": "code",
   "execution_count": 27,
   "metadata": {
    "ExecuteTime": {
     "end_time": "2020-10-07T22:36:47.041667Z",
     "start_time": "2020-10-07T22:36:43.580148Z"
    }
   },
   "outputs": [],
   "source": [
    "teams_19 = []    \n",
    "\n",
    "for x in de_maps:   \n",
    "    url = f'https://www.hltv.org/stats/players?startDate=2019-01-01&endDate=2019-12-31&maps={x}&rankingFilter=Top20'\n",
    "    h2 = requests.get(url,headers = headers)\n",
    "    soup2 = BeautifulSoup(h2.content)\n",
    "    for y in range(1,len(soup2.find_all('tr'))):\n",
    "        teams_19.append(soup2.find_all('tr')[y].find_all('img')[1].get('title'))\n",
    "        "
   ]
  },
  {
   "cell_type": "code",
   "execution_count": 28,
   "metadata": {
    "ExecuteTime": {
     "end_time": "2020-10-07T22:36:50.749421Z",
     "start_time": "2020-10-07T22:36:47.328940Z"
    }
   },
   "outputs": [],
   "source": [
    "\n",
    "teams_20 = []    \n",
    "\n",
    "for x in de_maps:   \n",
    "    url = f'https://www.hltv.org/stats/players?startDate=2020-01-01&endDate=2020-12-31&maps={x}&rankingFilter=Top20'\n",
    "    h2 = requests.get(url,headers = headers)\n",
    "    soup2 = BeautifulSoup(h2.content)\n",
    "    for y in range(1,len(soup2.find_all('tr'))):\n",
    "        teams_20.append(soup2.find_all('tr')[y].find_all('img')[1].get('title'))\n",
    "        "
   ]
  },
  {
   "cell_type": "code",
   "execution_count": 33,
   "metadata": {
    "ExecuteTime": {
     "end_time": "2020-10-07T22:49:53.774839Z",
     "start_time": "2020-10-07T22:49:53.771813Z"
    }
   },
   "outputs": [],
   "source": [
    "def team1(z):\n",
    "    teams_20 = []    \n",
    "\n",
    "    for x in de_maps:   \n",
    "        url = f'https://www.hltv.org/stats/players?startDate=20{z}-01-01&endDate=20{z}-12-31&maps={x}&rankingFilter=Top20'\n",
    "        h2 = requests.get(url,headers = headers)\n",
    "        soup2 = BeautifulSoup(h2.content)\n",
    "        for y in range(1,len(soup2.find_all('tr'))):\n",
    "            teams_20.append(soup2.find_all('tr')[y].find_all('img')[1].get('title'))\n",
    "            \n",
    "    return teams_20"
   ]
  },
  {
   "cell_type": "code",
   "execution_count": null,
   "metadata": {
    "ExecuteTime": {
     "end_time": "2020-10-06T20:27:37.250431Z",
     "start_time": "2020-10-06T20:27:37.245485Z"
    }
   },
   "outputs": [],
   "source": []
  }
 ],
 "metadata": {
  "kernelspec": {
   "display_name": "Python 3",
   "language": "python",
   "name": "python3"
  },
  "language_info": {
   "codemirror_mode": {
    "name": "ipython",
    "version": 3
   },
   "file_extension": ".py",
   "mimetype": "text/x-python",
   "name": "python",
   "nbconvert_exporter": "python",
   "pygments_lexer": "ipython3",
   "version": "3.7.9"
  },
  "toc": {
   "base_numbering": 1,
   "nav_menu": {},
   "number_sections": true,
   "sideBar": true,
   "skip_h1_title": false,
   "title_cell": "Table of Contents",
   "title_sidebar": "Contents",
   "toc_cell": false,
   "toc_position": {},
   "toc_section_display": true,
   "toc_window_display": false
  },
  "varInspector": {
   "cols": {
    "lenName": 16,
    "lenType": 16,
    "lenVar": 40
   },
   "kernels_config": {
    "python": {
     "delete_cmd_postfix": "",
     "delete_cmd_prefix": "del ",
     "library": "var_list.py",
     "varRefreshCmd": "print(var_dic_list())"
    },
    "r": {
     "delete_cmd_postfix": ") ",
     "delete_cmd_prefix": "rm(",
     "library": "var_list.r",
     "varRefreshCmd": "cat(var_dic_list()) "
    }
   },
   "types_to_exclude": [
    "module",
    "function",
    "builtin_function_or_method",
    "instance",
    "_Feature"
   ],
   "window_display": false
  }
 },
 "nbformat": 4,
 "nbformat_minor": 4
}
